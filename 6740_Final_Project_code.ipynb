{
  "nbformat": 4,
  "nbformat_minor": 0,
  "metadata": {
    "colab": {
      "name": "6740_Final_Project_code.ipynb",
      "provenance": [],
      "collapsed_sections": []
    },
    "kernelspec": {
      "display_name": "Python 3",
      "name": "python3"
    },
    "language_info": {
      "name": "python"
    }
  },
  "cells": [
    {
      "cell_type": "code",
      "metadata": {
        "id": "nvYs2uKC6UUs",
        "colab": {
          "base_uri": "https://localhost:8080/"
        },
        "outputId": "b1adcb4a-7d9a-40e3-9cf9-a0bfcff6b603"
      },
      "source": [
        "!git clone https://github.com/xiaoyangxuoo/Houston_crime_prevention"
      ],
      "execution_count": null,
      "outputs": [
        {
          "output_type": "stream",
          "text": [
            "Cloning into 'Houston_crime_prevention'...\n",
            "remote: Enumerating objects: 32, done.\u001b[K\n",
            "remote: Counting objects: 100% (32/32), done.\u001b[K\n",
            "remote: Compressing objects: 100% (28/28), done.\u001b[K\n",
            "remote: Total 32 (delta 8), reused 23 (delta 4), pack-reused 0\u001b[K\n",
            "Unpacking objects: 100% (32/32), done.\n"
          ],
          "name": "stdout"
        }
      ]
    },
    {
      "cell_type": "code",
      "metadata": {
        "id": "jCiAPcmoAnQR",
        "colab": {
          "base_uri": "https://localhost:8080/"
        },
        "outputId": "f857984b-58bc-497d-ba90-ddd637b456f8"
      },
      "source": [
        "!pip install pycaret"
      ],
      "execution_count": null,
      "outputs": [
        {
          "output_type": "stream",
          "text": [
            "Collecting pycaret\n",
            "  Downloading pycaret-2.3.3-py3-none-any.whl (264 kB)\n",
            "\u001b[?25l\r\u001b[K     |█▎                              | 10 kB 23.3 MB/s eta 0:00:01\r\u001b[K     |██▌                             | 20 kB 28.4 MB/s eta 0:00:01\r\u001b[K     |███▊                            | 30 kB 30.4 MB/s eta 0:00:01\r\u001b[K     |█████                           | 40 kB 32.7 MB/s eta 0:00:01\r\u001b[K     |██████▏                         | 51 kB 32.7 MB/s eta 0:00:01\r\u001b[K     |███████▍                        | 61 kB 34.8 MB/s eta 0:00:01\r\u001b[K     |████████▊                       | 71 kB 31.9 MB/s eta 0:00:01\r\u001b[K     |██████████                      | 81 kB 33.6 MB/s eta 0:00:01\r\u001b[K     |███████████▏                    | 92 kB 31.8 MB/s eta 0:00:01\r\u001b[K     |████████████▍                   | 102 kB 31.3 MB/s eta 0:00:01\r\u001b[K     |█████████████▋                  | 112 kB 31.3 MB/s eta 0:00:01\r\u001b[K     |██████████████▉                 | 122 kB 31.3 MB/s eta 0:00:01\r\u001b[K     |████████████████▏               | 133 kB 31.3 MB/s eta 0:00:01\r\u001b[K     |█████████████████▍              | 143 kB 31.3 MB/s eta 0:00:01\r\u001b[K     |██████████████████▋             | 153 kB 31.3 MB/s eta 0:00:01\r\u001b[K     |███████████████████▉            | 163 kB 31.3 MB/s eta 0:00:01\r\u001b[K     |█████████████████████           | 174 kB 31.3 MB/s eta 0:00:01\r\u001b[K     |██████████████████████▎         | 184 kB 31.3 MB/s eta 0:00:01\r\u001b[K     |███████████████████████▋        | 194 kB 31.3 MB/s eta 0:00:01\r\u001b[K     |████████████████████████▉       | 204 kB 31.3 MB/s eta 0:00:01\r\u001b[K     |██████████████████████████      | 215 kB 31.3 MB/s eta 0:00:01\r\u001b[K     |███████████████████████████▎    | 225 kB 31.3 MB/s eta 0:00:01\r\u001b[K     |████████████████████████████▌   | 235 kB 31.3 MB/s eta 0:00:01\r\u001b[K     |█████████████████████████████▊  | 245 kB 31.3 MB/s eta 0:00:01\r\u001b[K     |███████████████████████████████ | 256 kB 31.3 MB/s eta 0:00:01\r\u001b[K     |████████████████████████████████| 264 kB 31.3 MB/s \n",
            "\u001b[?25hCollecting lightgbm>=2.3.1\n",
            "  Downloading lightgbm-3.2.1-py3-none-manylinux1_x86_64.whl (2.0 MB)\n",
            "\u001b[K     |████████████████████████████████| 2.0 MB 39.0 MB/s \n",
            "\u001b[?25hRequirement already satisfied: seaborn in /usr/local/lib/python3.7/dist-packages (from pycaret) (0.11.1)\n",
            "Requirement already satisfied: IPython in /usr/local/lib/python3.7/dist-packages (from pycaret) (5.5.0)\n",
            "Requirement already satisfied: matplotlib in /usr/local/lib/python3.7/dist-packages (from pycaret) (3.2.2)\n",
            "Requirement already satisfied: plotly>=4.4.1 in /usr/local/lib/python3.7/dist-packages (from pycaret) (4.4.1)\n",
            "Requirement already satisfied: gensim<4.0.0 in /usr/local/lib/python3.7/dist-packages (from pycaret) (3.6.0)\n",
            "Collecting mlflow\n",
            "  Downloading mlflow-1.19.0-py3-none-any.whl (14.4 MB)\n",
            "\u001b[K     |████████████████████████████████| 14.4 MB 64 kB/s \n",
            "\u001b[?25hRequirement already satisfied: pandas in /usr/local/lib/python3.7/dist-packages (from pycaret) (1.1.5)\n",
            "Collecting scikit-plot\n",
            "  Downloading scikit_plot-0.3.7-py3-none-any.whl (33 kB)\n",
            "Requirement already satisfied: cufflinks>=0.17.0 in /usr/local/lib/python3.7/dist-packages (from pycaret) (0.17.3)\n",
            "Collecting mlxtend>=0.17.0\n",
            "  Downloading mlxtend-0.18.0-py2.py3-none-any.whl (1.3 MB)\n",
            "\u001b[K     |████████████████████████████████| 1.3 MB 42.8 MB/s \n",
            "\u001b[?25hCollecting kmodes>=0.10.1\n",
            "  Downloading kmodes-0.11.0-py2.py3-none-any.whl (18 kB)\n",
            "Collecting pyLDAvis\n",
            "  Downloading pyLDAvis-3.3.1.tar.gz (1.7 MB)\n",
            "\u001b[K     |████████████████████████████████| 1.7 MB 33.6 MB/s \n",
            "\u001b[?25h  Installing build dependencies ... \u001b[?25l\u001b[?25hdone\n",
            "  Getting requirements to build wheel ... \u001b[?25l\u001b[?25hdone\n",
            "  Installing backend dependencies ... \u001b[?25l\u001b[?25hdone\n",
            "    Preparing wheel metadata ... \u001b[?25l\u001b[?25hdone\n",
            "Collecting Boruta\n",
            "  Downloading Boruta-0.3-py3-none-any.whl (56 kB)\n",
            "\u001b[K     |████████████████████████████████| 56 kB 4.7 MB/s \n",
            "\u001b[?25hRequirement already satisfied: spacy<2.4.0 in /usr/local/lib/python3.7/dist-packages (from pycaret) (2.2.4)\n",
            "Requirement already satisfied: ipywidgets in /usr/local/lib/python3.7/dist-packages (from pycaret) (7.6.3)\n",
            "Requirement already satisfied: numpy==1.19.5 in /usr/local/lib/python3.7/dist-packages (from pycaret) (1.19.5)\n",
            "Requirement already satisfied: wordcloud in /usr/local/lib/python3.7/dist-packages (from pycaret) (1.5.0)\n",
            "Collecting imbalanced-learn==0.7.0\n",
            "  Downloading imbalanced_learn-0.7.0-py3-none-any.whl (167 kB)\n",
            "\u001b[K     |████████████████████████████████| 167 kB 71.1 MB/s \n",
            "\u001b[?25hCollecting pyod\n",
            "  Downloading pyod-0.9.0.tar.gz (105 kB)\n",
            "\u001b[K     |████████████████████████████████| 105 kB 76.8 MB/s \n",
            "\u001b[?25hRequirement already satisfied: joblib in /usr/local/lib/python3.7/dist-packages (from pycaret) (1.0.1)\n",
            "Requirement already satisfied: nltk in /usr/local/lib/python3.7/dist-packages (from pycaret) (3.2.5)\n",
            "Collecting pandas-profiling>=2.8.0\n",
            "  Downloading pandas_profiling-3.0.0-py2.py3-none-any.whl (248 kB)\n",
            "\u001b[K     |████████████████████████████████| 248 kB 69.5 MB/s \n",
            "\u001b[?25hCollecting scikit-learn==0.23.2\n",
            "  Downloading scikit_learn-0.23.2-cp37-cp37m-manylinux1_x86_64.whl (6.8 MB)\n",
            "\u001b[K     |████████████████████████████████| 6.8 MB 72.5 MB/s \n",
            "\u001b[?25hRequirement already satisfied: textblob in /usr/local/lib/python3.7/dist-packages (from pycaret) (0.15.3)\n",
            "Collecting umap-learn\n",
            "  Downloading umap-learn-0.5.1.tar.gz (80 kB)\n",
            "\u001b[K     |████████████████████████████████| 80 kB 9.8 MB/s \n",
            "\u001b[?25hCollecting yellowbrick>=1.0.1\n",
            "  Downloading yellowbrick-1.3.post1-py3-none-any.whl (271 kB)\n",
            "\u001b[K     |████████████████████████████████| 271 kB 72.4 MB/s \n",
            "\u001b[?25hRequirement already satisfied: scipy<=1.5.4 in /usr/local/lib/python3.7/dist-packages (from pycaret) (1.4.1)\n",
            "Collecting threadpoolctl>=2.0.0\n",
            "  Downloading threadpoolctl-2.2.0-py3-none-any.whl (12 kB)\n",
            "Requirement already satisfied: colorlover>=0.2.1 in /usr/local/lib/python3.7/dist-packages (from cufflinks>=0.17.0->pycaret) (0.3.0)\n",
            "Requirement already satisfied: setuptools>=34.4.1 in /usr/local/lib/python3.7/dist-packages (from cufflinks>=0.17.0->pycaret) (57.2.0)\n",
            "Requirement already satisfied: six>=1.9.0 in /usr/local/lib/python3.7/dist-packages (from cufflinks>=0.17.0->pycaret) (1.15.0)\n",
            "Requirement already satisfied: smart-open>=1.2.1 in /usr/local/lib/python3.7/dist-packages (from gensim<4.0.0->pycaret) (5.1.0)\n",
            "Requirement already satisfied: pexpect in /usr/local/lib/python3.7/dist-packages (from IPython->pycaret) (4.8.0)\n",
            "Requirement already satisfied: simplegeneric>0.8 in /usr/local/lib/python3.7/dist-packages (from IPython->pycaret) (0.8.1)\n",
            "Requirement already satisfied: prompt-toolkit<2.0.0,>=1.0.4 in /usr/local/lib/python3.7/dist-packages (from IPython->pycaret) (1.0.18)\n",
            "Requirement already satisfied: pickleshare in /usr/local/lib/python3.7/dist-packages (from IPython->pycaret) (0.7.5)\n",
            "Requirement already satisfied: traitlets>=4.2 in /usr/local/lib/python3.7/dist-packages (from IPython->pycaret) (5.0.5)\n",
            "Requirement already satisfied: pygments in /usr/local/lib/python3.7/dist-packages (from IPython->pycaret) (2.6.1)\n",
            "Requirement already satisfied: decorator in /usr/local/lib/python3.7/dist-packages (from IPython->pycaret) (4.4.2)\n",
            "Requirement already satisfied: widgetsnbextension~=3.5.0 in /usr/local/lib/python3.7/dist-packages (from ipywidgets->pycaret) (3.5.1)\n",
            "Requirement already satisfied: nbformat>=4.2.0 in /usr/local/lib/python3.7/dist-packages (from ipywidgets->pycaret) (5.1.3)\n",
            "Requirement already satisfied: ipykernel>=4.5.1 in /usr/local/lib/python3.7/dist-packages (from ipywidgets->pycaret) (4.10.1)\n",
            "Requirement already satisfied: jupyterlab-widgets>=1.0.0 in /usr/local/lib/python3.7/dist-packages (from ipywidgets->pycaret) (1.0.0)\n",
            "Requirement already satisfied: tornado>=4.0 in /usr/local/lib/python3.7/dist-packages (from ipykernel>=4.5.1->ipywidgets->pycaret) (5.1.1)\n",
            "Requirement already satisfied: jupyter-client in /usr/local/lib/python3.7/dist-packages (from ipykernel>=4.5.1->ipywidgets->pycaret) (5.3.5)\n",
            "Requirement already satisfied: wheel in /usr/local/lib/python3.7/dist-packages (from lightgbm>=2.3.1->pycaret) (0.36.2)\n",
            "Requirement already satisfied: python-dateutil>=2.1 in /usr/local/lib/python3.7/dist-packages (from matplotlib->pycaret) (2.8.1)\n",
            "Requirement already satisfied: kiwisolver>=1.0.1 in /usr/local/lib/python3.7/dist-packages (from matplotlib->pycaret) (1.3.1)\n",
            "Requirement already satisfied: pyparsing!=2.0.4,!=2.1.2,!=2.1.6,>=2.0.1 in /usr/local/lib/python3.7/dist-packages (from matplotlib->pycaret) (2.4.7)\n",
            "Requirement already satisfied: cycler>=0.10 in /usr/local/lib/python3.7/dist-packages (from matplotlib->pycaret) (0.10.0)\n",
            "Requirement already satisfied: ipython-genutils in /usr/local/lib/python3.7/dist-packages (from nbformat>=4.2.0->ipywidgets->pycaret) (0.2.0)\n",
            "Requirement already satisfied: jupyter-core in /usr/local/lib/python3.7/dist-packages (from nbformat>=4.2.0->ipywidgets->pycaret) (4.7.1)\n",
            "Requirement already satisfied: jsonschema!=2.5.0,>=2.4 in /usr/local/lib/python3.7/dist-packages (from nbformat>=4.2.0->ipywidgets->pycaret) (2.6.0)\n",
            "Requirement already satisfied: pytz>=2017.2 in /usr/local/lib/python3.7/dist-packages (from pandas->pycaret) (2018.9)\n",
            "Collecting tqdm>=4.48.2\n",
            "  Downloading tqdm-4.62.0-py2.py3-none-any.whl (76 kB)\n",
            "\u001b[K     |████████████████████████████████| 76 kB 5.3 MB/s \n",
            "\u001b[?25hRequirement already satisfied: jinja2>=2.11.1 in /usr/local/lib/python3.7/dist-packages (from pandas-profiling>=2.8.0->pycaret) (2.11.3)\n",
            "Collecting tangled-up-in-unicode==0.1.0\n",
            "  Downloading tangled_up_in_unicode-0.1.0-py3-none-any.whl (3.1 MB)\n",
            "\u001b[K     |████████████████████████████████| 3.1 MB 36.6 MB/s \n",
            "\u001b[?25hCollecting htmlmin>=0.1.12\n",
            "  Downloading htmlmin-0.1.12.tar.gz (19 kB)\n",
            "Collecting PyYAML>=5.0.0\n",
            "  Downloading PyYAML-5.4.1-cp37-cp37m-manylinux1_x86_64.whl (636 kB)\n",
            "\u001b[K     |████████████████████████████████| 636 kB 45.8 MB/s \n",
            "\u001b[?25hRequirement already satisfied: missingno>=0.4.2 in /usr/local/lib/python3.7/dist-packages (from pandas-profiling>=2.8.0->pycaret) (0.5.0)\n",
            "Collecting visions[type_image_path]==0.7.1\n",
            "  Downloading visions-0.7.1-py3-none-any.whl (102 kB)\n",
            "\u001b[K     |████████████████████████████████| 102 kB 59.2 MB/s \n",
            "\u001b[?25hCollecting pydantic>=1.8.1\n",
            "  Downloading pydantic-1.8.2-cp37-cp37m-manylinux2014_x86_64.whl (10.1 MB)\n",
            "\u001b[K     |████████████████████████████████| 10.1 MB 42.0 MB/s \n",
            "\u001b[?25hCollecting requests>=2.24.0\n",
            "  Downloading requests-2.26.0-py2.py3-none-any.whl (62 kB)\n",
            "\u001b[K     |████████████████████████████████| 62 kB 872 kB/s \n",
            "\u001b[?25hCollecting phik>=0.11.1\n",
            "  Downloading phik-0.12.0-cp37-cp37m-manylinux2010_x86_64.whl (675 kB)\n",
            "\u001b[K     |████████████████████████████████| 675 kB 76.4 MB/s \n",
            "\u001b[?25hRequirement already satisfied: networkx>=2.4 in /usr/local/lib/python3.7/dist-packages (from visions[type_image_path]==0.7.1->pandas-profiling>=2.8.0->pycaret) (2.5.1)\n",
            "Requirement already satisfied: attrs>=19.3.0 in /usr/local/lib/python3.7/dist-packages (from visions[type_image_path]==0.7.1->pandas-profiling>=2.8.0->pycaret) (21.2.0)\n",
            "Requirement already satisfied: bottleneck in /usr/local/lib/python3.7/dist-packages (from visions[type_image_path]==0.7.1->pandas-profiling>=2.8.0->pycaret) (1.3.2)\n",
            "Collecting multimethod==1.4\n",
            "  Downloading multimethod-1.4-py2.py3-none-any.whl (7.3 kB)\n",
            "Requirement already satisfied: Pillow in /usr/local/lib/python3.7/dist-packages (from visions[type_image_path]==0.7.1->pandas-profiling>=2.8.0->pycaret) (7.1.2)\n",
            "Collecting imagehash\n",
            "  Downloading ImageHash-4.2.1.tar.gz (812 kB)\n",
            "\u001b[K     |████████████████████████████████| 812 kB 74.8 MB/s \n",
            "\u001b[?25hRequirement already satisfied: MarkupSafe>=0.23 in /usr/local/lib/python3.7/dist-packages (from jinja2>=2.11.1->pandas-profiling>=2.8.0->pycaret) (2.0.1)\n",
            "Collecting scipy<=1.5.4\n",
            "  Downloading scipy-1.5.4-cp37-cp37m-manylinux1_x86_64.whl (25.9 MB)\n",
            "\u001b[K     |████████████████████████████████| 25.9 MB 973 bytes/s \n",
            "\u001b[?25hRequirement already satisfied: retrying>=1.3.3 in /usr/local/lib/python3.7/dist-packages (from plotly>=4.4.1->pycaret) (1.3.3)\n",
            "Requirement already satisfied: wcwidth in /usr/local/lib/python3.7/dist-packages (from prompt-toolkit<2.0.0,>=1.0.4->IPython->pycaret) (0.2.5)\n",
            "Requirement already satisfied: typing-extensions>=3.7.4.3 in /usr/local/lib/python3.7/dist-packages (from pydantic>=1.8.1->pandas-profiling>=2.8.0->pycaret) (3.7.4.3)\n",
            "Requirement already satisfied: certifi>=2017.4.17 in /usr/local/lib/python3.7/dist-packages (from requests>=2.24.0->pandas-profiling>=2.8.0->pycaret) (2021.5.30)\n",
            "Requirement already satisfied: charset-normalizer~=2.0.0 in /usr/local/lib/python3.7/dist-packages (from requests>=2.24.0->pandas-profiling>=2.8.0->pycaret) (2.0.2)\n",
            "Requirement already satisfied: idna<4,>=2.5 in /usr/local/lib/python3.7/dist-packages (from requests>=2.24.0->pandas-profiling>=2.8.0->pycaret) (2.10)\n",
            "Requirement already satisfied: urllib3<1.27,>=1.21.1 in /usr/local/lib/python3.7/dist-packages (from requests>=2.24.0->pandas-profiling>=2.8.0->pycaret) (1.24.3)\n",
            "Requirement already satisfied: cymem<2.1.0,>=2.0.2 in /usr/local/lib/python3.7/dist-packages (from spacy<2.4.0->pycaret) (2.0.5)\n",
            "Requirement already satisfied: srsly<1.1.0,>=1.0.2 in /usr/local/lib/python3.7/dist-packages (from spacy<2.4.0->pycaret) (1.0.5)\n",
            "Requirement already satisfied: preshed<3.1.0,>=3.0.2 in /usr/local/lib/python3.7/dist-packages (from spacy<2.4.0->pycaret) (3.0.5)\n",
            "Requirement already satisfied: wasabi<1.1.0,>=0.4.0 in /usr/local/lib/python3.7/dist-packages (from spacy<2.4.0->pycaret) (0.8.2)\n",
            "Requirement already satisfied: plac<1.2.0,>=0.9.6 in /usr/local/lib/python3.7/dist-packages (from spacy<2.4.0->pycaret) (1.1.3)\n",
            "Requirement already satisfied: blis<0.5.0,>=0.4.0 in /usr/local/lib/python3.7/dist-packages (from spacy<2.4.0->pycaret) (0.4.1)\n",
            "Requirement already satisfied: catalogue<1.1.0,>=0.0.7 in /usr/local/lib/python3.7/dist-packages (from spacy<2.4.0->pycaret) (1.0.0)\n",
            "Requirement already satisfied: murmurhash<1.1.0,>=0.28.0 in /usr/local/lib/python3.7/dist-packages (from spacy<2.4.0->pycaret) (1.0.5)\n",
            "Requirement already satisfied: thinc==7.4.0 in /usr/local/lib/python3.7/dist-packages (from spacy<2.4.0->pycaret) (7.4.0)\n",
            "Requirement already satisfied: importlib-metadata>=0.20 in /usr/local/lib/python3.7/dist-packages (from catalogue<1.1.0,>=0.0.7->spacy<2.4.0->pycaret) (4.6.1)\n",
            "Requirement already satisfied: zipp>=0.5 in /usr/local/lib/python3.7/dist-packages (from importlib-metadata>=0.20->catalogue<1.1.0,>=0.0.7->spacy<2.4.0->pycaret) (3.5.0)\n",
            "Requirement already satisfied: notebook>=4.4.1 in /usr/local/lib/python3.7/dist-packages (from widgetsnbextension~=3.5.0->ipywidgets->pycaret) (5.3.1)\n",
            "Requirement already satisfied: terminado>=0.8.1 in /usr/local/lib/python3.7/dist-packages (from notebook>=4.4.1->widgetsnbextension~=3.5.0->ipywidgets->pycaret) (0.10.1)\n",
            "Requirement already satisfied: Send2Trash in /usr/local/lib/python3.7/dist-packages (from notebook>=4.4.1->widgetsnbextension~=3.5.0->ipywidgets->pycaret) (1.7.1)\n",
            "Requirement already satisfied: nbconvert in /usr/local/lib/python3.7/dist-packages (from notebook>=4.4.1->widgetsnbextension~=3.5.0->ipywidgets->pycaret) (5.6.1)\n",
            "Requirement already satisfied: pyzmq>=13 in /usr/local/lib/python3.7/dist-packages (from jupyter-client->ipykernel>=4.5.1->ipywidgets->pycaret) (22.1.0)\n",
            "Requirement already satisfied: ptyprocess in /usr/local/lib/python3.7/dist-packages (from terminado>=0.8.1->notebook>=4.4.1->widgetsnbextension~=3.5.0->ipywidgets->pycaret) (0.7.0)\n",
            "Requirement already satisfied: PyWavelets in /usr/local/lib/python3.7/dist-packages (from imagehash->visions[type_image_path]==0.7.1->pandas-profiling>=2.8.0->pycaret) (1.1.1)\n",
            "\u001b[33mWARNING: Retrying (Retry(total=4, connect=None, read=None, redirect=None, status=None)) after connection broken by 'ProtocolError('Connection aborted.', ConnectionResetError(104, 'Connection reset by peer'))': /simple/querystring-parser/\u001b[0m\n",
            "Collecting querystring-parser\n",
            "\u001b[33m  WARNING: Retrying (Retry(total=4, connect=None, read=None, redirect=None, status=None)) after connection broken by 'ProtocolError('Connection aborted.', ConnectionResetError(104, 'Connection reset by peer'))': /packages/88/6b/572b2590fd55114118bf08bde63c0a421dcc82d593700f3e2ad89908a8a9/querystring_parser-1.2.4-py2.py3-none-any.whl\u001b[0m\n",
            "  Downloading querystring_parser-1.2.4-py2.py3-none-any.whl (7.9 kB)\n",
            "Requirement already satisfied: protobuf>=3.7.0 in /usr/local/lib/python3.7/dist-packages (from mlflow->pycaret) (3.17.3)\n",
            "Collecting alembic<=1.4.1\n",
            "  Downloading alembic-1.4.1.tar.gz (1.1 MB)\n",
            "\u001b[K     |████████████████████████████████| 1.1 MB 31.4 MB/s \n",
            "\u001b[?25hCollecting docker>=4.0.0\n",
            "  Downloading docker-5.0.0-py2.py3-none-any.whl (146 kB)\n",
            "\u001b[K     |████████████████████████████████| 146 kB 61.5 MB/s \n",
            "\u001b[?25hCollecting prometheus-flask-exporter\n",
            "  Downloading prometheus_flask_exporter-0.18.2.tar.gz (22 kB)\n",
            "Collecting gitpython>=2.1.0\n",
            "  Downloading GitPython-3.1.18-py3-none-any.whl (170 kB)\n",
            "\u001b[K     |████████████████████████████████| 170 kB 57.5 MB/s \n",
            "\u001b[?25hRequirement already satisfied: entrypoints in /usr/local/lib/python3.7/dist-packages (from mlflow->pycaret) (0.3)\n",
            "Requirement already satisfied: sqlparse>=0.3.1 in /usr/local/lib/python3.7/dist-packages (from mlflow->pycaret) (0.4.1)\n",
            "Requirement already satisfied: Flask in /usr/local/lib/python3.7/dist-packages (from mlflow->pycaret) (1.1.4)\n",
            "Requirement already satisfied: cloudpickle in /usr/local/lib/python3.7/dist-packages (from mlflow->pycaret) (1.3.0)\n",
            "Requirement already satisfied: packaging in /usr/local/lib/python3.7/dist-packages (from mlflow->pycaret) (21.0)\n",
            "Requirement already satisfied: sqlalchemy in /usr/local/lib/python3.7/dist-packages (from mlflow->pycaret) (1.4.20)\n",
            "Collecting databricks-cli>=0.8.7\n",
            "  Downloading databricks-cli-0.14.3.tar.gz (54 kB)\n",
            "\u001b[K     |████████████████████████████████| 54 kB 3.3 MB/s \n",
            "\u001b[?25hRequirement already satisfied: click>=7.0 in /usr/local/lib/python3.7/dist-packages (from mlflow->pycaret) (7.1.2)\n",
            "Collecting gunicorn\n",
            "  Downloading gunicorn-20.1.0-py3-none-any.whl (79 kB)\n",
            "\u001b[K     |████████████████████████████████| 79 kB 7.6 MB/s \n",
            "\u001b[?25hCollecting Mako\n",
            "  Downloading Mako-1.1.4-py2.py3-none-any.whl (75 kB)\n",
            "\u001b[K     |████████████████████████████████| 75 kB 4.8 MB/s \n",
            "\u001b[?25hCollecting python-editor>=0.3\n",
            "  Downloading python_editor-1.0.4-py3-none-any.whl (4.9 kB)\n",
            "Requirement already satisfied: tabulate>=0.7.7 in /usr/local/lib/python3.7/dist-packages (from databricks-cli>=0.8.7->mlflow->pycaret) (0.8.9)\n",
            "Collecting websocket-client>=0.32.0\n",
            "  Downloading websocket_client-1.1.0-py2.py3-none-any.whl (68 kB)\n",
            "\u001b[K     |████████████████████████████████| 68 kB 6.2 MB/s \n",
            "\u001b[?25hCollecting gitdb<5,>=4.0.1\n",
            "  Downloading gitdb-4.0.7-py3-none-any.whl (63 kB)\n",
            "\u001b[K     |████████████████████████████████| 63 kB 1.8 MB/s \n",
            "\u001b[?25hCollecting smmap<5,>=3.0.1\n",
            "  Downloading smmap-4.0.0-py2.py3-none-any.whl (24 kB)\n",
            "Requirement already satisfied: greenlet!=0.4.17 in /usr/local/lib/python3.7/dist-packages (from sqlalchemy->mlflow->pycaret) (1.1.0)\n",
            "Requirement already satisfied: Werkzeug<2.0,>=0.15 in /usr/local/lib/python3.7/dist-packages (from Flask->mlflow->pycaret) (1.0.1)\n",
            "Requirement already satisfied: itsdangerous<2.0,>=0.24 in /usr/local/lib/python3.7/dist-packages (from Flask->mlflow->pycaret) (1.1.0)\n",
            "Requirement already satisfied: bleach in /usr/local/lib/python3.7/dist-packages (from nbconvert->notebook>=4.4.1->widgetsnbextension~=3.5.0->ipywidgets->pycaret) (3.3.0)\n",
            "Requirement already satisfied: defusedxml in /usr/local/lib/python3.7/dist-packages (from nbconvert->notebook>=4.4.1->widgetsnbextension~=3.5.0->ipywidgets->pycaret) (0.7.1)\n",
            "Requirement already satisfied: pandocfilters>=1.4.1 in /usr/local/lib/python3.7/dist-packages (from nbconvert->notebook>=4.4.1->widgetsnbextension~=3.5.0->ipywidgets->pycaret) (1.4.3)\n",
            "Requirement already satisfied: mistune<2,>=0.8.1 in /usr/local/lib/python3.7/dist-packages (from nbconvert->notebook>=4.4.1->widgetsnbextension~=3.5.0->ipywidgets->pycaret) (0.8.4)\n",
            "Requirement already satisfied: testpath in /usr/local/lib/python3.7/dist-packages (from nbconvert->notebook>=4.4.1->widgetsnbextension~=3.5.0->ipywidgets->pycaret) (0.5.0)\n",
            "Requirement already satisfied: webencodings in /usr/local/lib/python3.7/dist-packages (from bleach->nbconvert->notebook>=4.4.1->widgetsnbextension~=3.5.0->ipywidgets->pycaret) (0.5.1)\n",
            "Requirement already satisfied: prometheus_client in /usr/local/lib/python3.7/dist-packages (from prometheus-flask-exporter->mlflow->pycaret) (0.11.0)\n",
            "Requirement already satisfied: numexpr in /usr/local/lib/python3.7/dist-packages (from pyLDAvis->pycaret) (2.7.3)\n",
            "Collecting pyLDAvis\n",
            "  Downloading pyLDAvis-3.3.0.tar.gz (1.7 MB)\n",
            "\u001b[K     |████████████████████████████████| 1.7 MB 53.8 MB/s \n",
            "\u001b[?25h  Installing build dependencies ... \u001b[?25l\u001b[?25hdone\n",
            "  Getting requirements to build wheel ... \u001b[?25l\u001b[?25hdone\n",
            "  Installing backend dependencies ... \u001b[?25l\u001b[?25hdone\n",
            "    Preparing wheel metadata ... \u001b[?25l\u001b[?25hdone\n",
            "  Downloading pyLDAvis-3.2.2.tar.gz (1.7 MB)\n",
            "\u001b[K     |████████████████████████████████| 1.7 MB 44.0 MB/s \n",
            "\u001b[?25hRequirement already satisfied: future in /usr/local/lib/python3.7/dist-packages (from pyLDAvis->pycaret) (0.16.0)\n",
            "Collecting funcy\n",
            "  Downloading funcy-1.16-py2.py3-none-any.whl (32 kB)\n",
            "Requirement already satisfied: numba>=0.35 in /usr/local/lib/python3.7/dist-packages (from pyod->pycaret) (0.51.2)\n",
            "Requirement already satisfied: statsmodels in /usr/local/lib/python3.7/dist-packages (from pyod->pycaret) (0.10.2)\n",
            "Requirement already satisfied: llvmlite<0.35,>=0.34.0.dev0 in /usr/local/lib/python3.7/dist-packages (from numba>=0.35->pyod->pycaret) (0.34.0)\n",
            "Requirement already satisfied: patsy>=0.4.0 in /usr/local/lib/python3.7/dist-packages (from statsmodels->pyod->pycaret) (0.5.1)\n",
            "Collecting pynndescent>=0.5\n",
            "  Downloading pynndescent-0.5.4.tar.gz (1.1 MB)\n",
            "\u001b[K     |████████████████████████████████| 1.1 MB 50.4 MB/s \n",
            "\u001b[?25hBuilding wheels for collected packages: htmlmin, imagehash, alembic, databricks-cli, prometheus-flask-exporter, pyLDAvis, pyod, umap-learn, pynndescent\n",
            "  Building wheel for htmlmin (setup.py) ... \u001b[?25l\u001b[?25hdone\n",
            "  Created wheel for htmlmin: filename=htmlmin-0.1.12-py3-none-any.whl size=27098 sha256=fdd3d3e676d24acc5b3e49b1c30a5ed4c614918a86f3a07bcaeed09432230ad5\n",
            "  Stored in directory: /root/.cache/pip/wheels/70/e1/52/5b14d250ba868768823940c3229e9950d201a26d0bd3ee8655\n",
            "  Building wheel for imagehash (setup.py) ... \u001b[?25l\u001b[?25hdone\n",
            "  Created wheel for imagehash: filename=ImageHash-4.2.1-py2.py3-none-any.whl size=295206 sha256=dffa1ee441400b4b29248e523fc3b994d0e7d80a84052270f2dffefb611d9567\n",
            "  Stored in directory: /root/.cache/pip/wheels/4c/d5/59/5e3e297533ddb09407769762985d134135064c6831e29a914e\n",
            "  Building wheel for alembic (setup.py) ... \u001b[?25l\u001b[?25hdone\n",
            "  Created wheel for alembic: filename=alembic-1.4.1-py2.py3-none-any.whl size=158170 sha256=e0c55855a568d0d81a909b6a9d0400db6364172446ec95fad3e3351c55d56a44\n",
            "  Stored in directory: /root/.cache/pip/wheels/be/5d/0a/9e13f53f4f5dfb67cd8d245bb7cdffe12f135846f491a283e3\n",
            "  Building wheel for databricks-cli (setup.py) ... \u001b[?25l\u001b[?25hdone\n",
            "  Created wheel for databricks-cli: filename=databricks_cli-0.14.3-py3-none-any.whl size=100557 sha256=c67b9174845e2cb3e7f2e0cfc3a5bf13b18c1bdb084c2d775c003f9614aaf622\n",
            "  Stored in directory: /root/.cache/pip/wheels/3b/60/14/6930445b08959fbdf4e3029bac7e1f2cccb2e94df8afa00b29\n",
            "  Building wheel for prometheus-flask-exporter (setup.py) ... \u001b[?25l\u001b[?25hdone\n",
            "  Created wheel for prometheus-flask-exporter: filename=prometheus_flask_exporter-0.18.2-py3-none-any.whl size=17416 sha256=b14e8af58b0143d06b585ef17b0d0ce0a03061d875033ba5460b92d8665925b8\n",
            "  Stored in directory: /root/.cache/pip/wheels/6a/1e/1c/c765920cb92b2f0343d2dd8b481a407cee2823f9b4bbd2e52a\n",
            "  Building wheel for pyLDAvis (setup.py) ... \u001b[?25l\u001b[?25hdone\n",
            "  Created wheel for pyLDAvis: filename=pyLDAvis-3.2.2-py2.py3-none-any.whl size=135618 sha256=594e403ad4101abe0f7fc388d5699079e6d04181c20b0b6f243e67b206b59669\n",
            "  Stored in directory: /root/.cache/pip/wheels/f8/b1/9b/560ac1931796b7303f7b517b949d2d31a4fbc512aad3b9f284\n",
            "  Building wheel for pyod (setup.py) ... \u001b[?25l\u001b[?25hdone\n",
            "  Created wheel for pyod: filename=pyod-0.9.0-py3-none-any.whl size=122560 sha256=e80cf124cf24dca6394bba654bf217365a67cef57c72563d59ed2e07f391b17d\n",
            "  Stored in directory: /root/.cache/pip/wheels/42/5f/59/5984a6116a4d19aee28d8ebeffd431364ce1cf21eb73a6ad34\n",
            "  Building wheel for umap-learn (setup.py) ... \u001b[?25l\u001b[?25hdone\n",
            "  Created wheel for umap-learn: filename=umap_learn-0.5.1-py3-none-any.whl size=76566 sha256=0ffb90970d0e00208064d9daf534e34de4d59f5c299971716eaaccc4140ec718\n",
            "  Stored in directory: /root/.cache/pip/wheels/01/e7/bb/347dc0e510803d7116a13d592b10cc68262da56a8eec4dd72f\n",
            "  Building wheel for pynndescent (setup.py) ... \u001b[?25l\u001b[?25hdone\n",
            "  Created wheel for pynndescent: filename=pynndescent-0.5.4-py3-none-any.whl size=52372 sha256=ad0178338715927314390e80ca6d29211ab818df637968055e3a9b74a7bfe27b\n",
            "  Stored in directory: /root/.cache/pip/wheels/d0/5b/62/3401692ddad12324249c774c4b15ccb046946021e2b581c043\n",
            "Successfully built htmlmin imagehash alembic databricks-cli prometheus-flask-exporter pyLDAvis pyod umap-learn pynndescent\n",
            "Installing collected packages: threadpoolctl, tangled-up-in-unicode, smmap, scipy, multimethod, websocket-client, visions, tqdm, scikit-learn, requests, python-editor, Mako, imagehash, gitdb, querystring-parser, PyYAML, pynndescent, pydantic, prometheus-flask-exporter, phik, htmlmin, gunicorn, gitpython, funcy, docker, databricks-cli, alembic, yellowbrick, umap-learn, scikit-plot, pyod, pyLDAvis, pandas-profiling, mlxtend, mlflow, lightgbm, kmodes, imbalanced-learn, Boruta, pycaret\n",
            "  Attempting uninstall: scipy\n",
            "    Found existing installation: scipy 1.4.1\n",
            "    Uninstalling scipy-1.4.1:\n",
            "      Successfully uninstalled scipy-1.4.1\n",
            "  Attempting uninstall: tqdm\n",
            "    Found existing installation: tqdm 4.41.1\n",
            "    Uninstalling tqdm-4.41.1:\n",
            "      Successfully uninstalled tqdm-4.41.1\n",
            "  Attempting uninstall: scikit-learn\n",
            "    Found existing installation: scikit-learn 0.22.2.post1\n",
            "    Uninstalling scikit-learn-0.22.2.post1:\n",
            "      Successfully uninstalled scikit-learn-0.22.2.post1\n",
            "  Attempting uninstall: requests\n",
            "    Found existing installation: requests 2.23.0\n",
            "    Uninstalling requests-2.23.0:\n",
            "      Successfully uninstalled requests-2.23.0\n",
            "  Attempting uninstall: PyYAML\n",
            "    Found existing installation: PyYAML 3.13\n",
            "    Uninstalling PyYAML-3.13:\n",
            "      Successfully uninstalled PyYAML-3.13\n",
            "  Attempting uninstall: yellowbrick\n",
            "    Found existing installation: yellowbrick 0.9.1\n",
            "    Uninstalling yellowbrick-0.9.1:\n",
            "      Successfully uninstalled yellowbrick-0.9.1\n",
            "  Attempting uninstall: pandas-profiling\n",
            "    Found existing installation: pandas-profiling 1.4.1\n",
            "    Uninstalling pandas-profiling-1.4.1:\n",
            "      Successfully uninstalled pandas-profiling-1.4.1\n",
            "  Attempting uninstall: mlxtend\n",
            "    Found existing installation: mlxtend 0.14.0\n",
            "    Uninstalling mlxtend-0.14.0:\n",
            "      Successfully uninstalled mlxtend-0.14.0\n",
            "  Attempting uninstall: lightgbm\n",
            "    Found existing installation: lightgbm 2.2.3\n",
            "    Uninstalling lightgbm-2.2.3:\n",
            "      Successfully uninstalled lightgbm-2.2.3\n",
            "  Attempting uninstall: imbalanced-learn\n",
            "    Found existing installation: imbalanced-learn 0.4.3\n",
            "    Uninstalling imbalanced-learn-0.4.3:\n",
            "      Successfully uninstalled imbalanced-learn-0.4.3\n",
            "\u001b[31mERROR: pip's dependency resolver does not currently take into account all the packages that are installed. This behaviour is the source of the following dependency conflicts.\n",
            "google-colab 1.0.0 requires requests~=2.23.0, but you have requests 2.26.0 which is incompatible.\n",
            "datascience 0.10.6 requires folium==0.2.1, but you have folium 0.8.3 which is incompatible.\n",
            "albumentations 0.1.12 requires imgaug<0.2.7,>=0.2.5, but you have imgaug 0.2.9 which is incompatible.\u001b[0m\n",
            "Successfully installed Boruta-0.3 Mako-1.1.4 PyYAML-5.4.1 alembic-1.4.1 databricks-cli-0.14.3 docker-5.0.0 funcy-1.16 gitdb-4.0.7 gitpython-3.1.18 gunicorn-20.1.0 htmlmin-0.1.12 imagehash-4.2.1 imbalanced-learn-0.7.0 kmodes-0.11.0 lightgbm-3.2.1 mlflow-1.19.0 mlxtend-0.18.0 multimethod-1.4 pandas-profiling-3.0.0 phik-0.12.0 prometheus-flask-exporter-0.18.2 pyLDAvis-3.2.2 pycaret-2.3.3 pydantic-1.8.2 pynndescent-0.5.4 pyod-0.9.0 python-editor-1.0.4 querystring-parser-1.2.4 requests-2.26.0 scikit-learn-0.23.2 scikit-plot-0.3.7 scipy-1.5.4 smmap-4.0.0 tangled-up-in-unicode-0.1.0 threadpoolctl-2.2.0 tqdm-4.62.0 umap-learn-0.5.1 visions-0.7.1 websocket-client-1.1.0 yellowbrick-1.3.post1\n"
          ],
          "name": "stdout"
        }
      ]
    },
    {
      "cell_type": "code",
      "metadata": {
        "id": "zPZGOH-o72hW"
      },
      "source": [
        "import pandas as pd\n",
        "import numpy as np\n",
        "import cv2\n",
        "import os "
      ],
      "execution_count": null,
      "outputs": []
    },
    {
      "cell_type": "code",
      "metadata": {
        "id": "3_XZI3EL8KhV",
        "colab": {
          "base_uri": "https://localhost:8080/",
          "height": 504
        },
        "outputId": "bb1d534f-d4fa-4f24-b77a-3e23ce67f105"
      },
      "source": [
        "data = os.path.join('/content/Houston_crime_prevention/data', 'Final.csv')\n",
        "df = pd.read_csv(data,header=0)\n",
        "\n",
        "# data = os.path.join('/content/gdrive/My Drive/GIT project', 'HPD 2019.xlsx')\n",
        "# df = pd.read_excel(data,header=0)\n",
        "df.head()"
      ],
      "execution_count": null,
      "outputs": [
        {
          "output_type": "execute_result",
          "data": {
            "text/html": [
              "<div>\n",
              "<style scoped>\n",
              "    .dataframe tbody tr th:only-of-type {\n",
              "        vertical-align: middle;\n",
              "    }\n",
              "\n",
              "    .dataframe tbody tr th {\n",
              "        vertical-align: top;\n",
              "    }\n",
              "\n",
              "    .dataframe thead th {\n",
              "        text-align: right;\n",
              "    }\n",
              "</style>\n",
              "<table border=\"1\" class=\"dataframe\">\n",
              "  <thead>\n",
              "    <tr style=\"text-align: right;\">\n",
              "      <th></th>\n",
              "      <th>Unnamed: 0</th>\n",
              "      <th>Date</th>\n",
              "      <th>Hour</th>\n",
              "      <th>Reporting_Class</th>\n",
              "      <th>Category</th>\n",
              "      <th>Count</th>\n",
              "      <th>Beat</th>\n",
              "      <th>Premise</th>\n",
              "      <th>StreetName</th>\n",
              "      <th>City</th>\n",
              "      <th>Zip_Code</th>\n",
              "      <th>Zip_Code_Numeric</th>\n",
              "      <th>Month</th>\n",
              "      <th>Location_x</th>\n",
              "      <th>Poverty_rate</th>\n",
              "      <th>RegionName</th>\n",
              "      <th>Housing</th>\n",
              "      <th>Temperature</th>\n",
              "      <th>Weather_conditions</th>\n",
              "      <th>Year</th>\n",
              "      <th>Unemploy_value</th>\n",
              "      <th>Location_y</th>\n",
              "      <th>Median_household_income</th>\n",
              "      <th>Location</th>\n",
              "      <th>25+_w_high_school_or_higher_in_percent</th>\n",
              "    </tr>\n",
              "  </thead>\n",
              "  <tbody>\n",
              "    <tr>\n",
              "      <th>0</th>\n",
              "      <td>0</td>\n",
              "      <td>2019-01-01</td>\n",
              "      <td>0</td>\n",
              "      <td>290</td>\n",
              "      <td>Destruction, damage, vandalism</td>\n",
              "      <td>1</td>\n",
              "      <td>9C30</td>\n",
              "      <td>Residence, Home (Includes Apartment)</td>\n",
              "      <td>SAN CARLOS</td>\n",
              "      <td>HOUSTON</td>\n",
              "      <td>77013</td>\n",
              "      <td>77013</td>\n",
              "      <td>1</td>\n",
              "      <td>77013.0</td>\n",
              "      <td>24.1</td>\n",
              "      <td>77013.0</td>\n",
              "      <td>132335.0</td>\n",
              "      <td>52.1</td>\n",
              "      <td>Clear</td>\n",
              "      <td>2019</td>\n",
              "      <td>50211</td>\n",
              "      <td>77013.0</td>\n",
              "      <td>38665.0</td>\n",
              "      <td>77013.0</td>\n",
              "      <td>61.2</td>\n",
              "    </tr>\n",
              "    <tr>\n",
              "      <th>1</th>\n",
              "      <td>1</td>\n",
              "      <td>2019-01-01</td>\n",
              "      <td>0</td>\n",
              "      <td>35A</td>\n",
              "      <td>Drug, narcotic violations</td>\n",
              "      <td>1</td>\n",
              "      <td>7C10</td>\n",
              "      <td>Highway, Road, Street, Alley</td>\n",
              "      <td>EAST</td>\n",
              "      <td>HOUSTON</td>\n",
              "      <td>77020</td>\n",
              "      <td>77020</td>\n",
              "      <td>1</td>\n",
              "      <td>77020.0</td>\n",
              "      <td>30.0</td>\n",
              "      <td>77020.0</td>\n",
              "      <td>117754.0</td>\n",
              "      <td>52.1</td>\n",
              "      <td>Clear</td>\n",
              "      <td>2019</td>\n",
              "      <td>50211</td>\n",
              "      <td>77020.0</td>\n",
              "      <td>32207.0</td>\n",
              "      <td>77020.0</td>\n",
              "      <td>63.8</td>\n",
              "    </tr>\n",
              "    <tr>\n",
              "      <th>2</th>\n",
              "      <td>2</td>\n",
              "      <td>2019-01-01</td>\n",
              "      <td>0</td>\n",
              "      <td>290</td>\n",
              "      <td>Destruction, damage, vandalism</td>\n",
              "      <td>1</td>\n",
              "      <td>16E40</td>\n",
              "      <td>Residence, Home (Includes Apartment)</td>\n",
              "      <td>LONE QUAIL</td>\n",
              "      <td>HOUSTON</td>\n",
              "      <td>77489</td>\n",
              "      <td>77489</td>\n",
              "      <td>1</td>\n",
              "      <td>NaN</td>\n",
              "      <td>NaN</td>\n",
              "      <td>NaN</td>\n",
              "      <td>NaN</td>\n",
              "      <td>52.1</td>\n",
              "      <td>Clear</td>\n",
              "      <td>2019</td>\n",
              "      <td>50211</td>\n",
              "      <td>NaN</td>\n",
              "      <td>NaN</td>\n",
              "      <td>NaN</td>\n",
              "      <td>NaN</td>\n",
              "    </tr>\n",
              "    <tr>\n",
              "      <th>3</th>\n",
              "      <td>3</td>\n",
              "      <td>2019-01-01</td>\n",
              "      <td>0</td>\n",
              "      <td>13A</td>\n",
              "      <td>Aggravated Assault</td>\n",
              "      <td>1</td>\n",
              "      <td>15E30</td>\n",
              "      <td>Residence, Home (Includes Apartment)</td>\n",
              "      <td>OSBY</td>\n",
              "      <td>HOUSTON</td>\n",
              "      <td>77025</td>\n",
              "      <td>77025</td>\n",
              "      <td>1</td>\n",
              "      <td>77025.0</td>\n",
              "      <td>9.7</td>\n",
              "      <td>77025.0</td>\n",
              "      <td>416531.0</td>\n",
              "      <td>52.1</td>\n",
              "      <td>Clear</td>\n",
              "      <td>2019</td>\n",
              "      <td>50211</td>\n",
              "      <td>77025.0</td>\n",
              "      <td>76772.0</td>\n",
              "      <td>77025.0</td>\n",
              "      <td>92.7</td>\n",
              "    </tr>\n",
              "    <tr>\n",
              "      <th>4</th>\n",
              "      <td>4</td>\n",
              "      <td>2019-01-01</td>\n",
              "      <td>0</td>\n",
              "      <td>23H</td>\n",
              "      <td>All other larceny</td>\n",
              "      <td>1</td>\n",
              "      <td>15E30</td>\n",
              "      <td>Residence, Home (Includes Apartment)</td>\n",
              "      <td>OSBY</td>\n",
              "      <td>HOUSTON</td>\n",
              "      <td>77025</td>\n",
              "      <td>77025</td>\n",
              "      <td>1</td>\n",
              "      <td>77025.0</td>\n",
              "      <td>9.7</td>\n",
              "      <td>77025.0</td>\n",
              "      <td>416531.0</td>\n",
              "      <td>52.1</td>\n",
              "      <td>Clear</td>\n",
              "      <td>2019</td>\n",
              "      <td>50211</td>\n",
              "      <td>77025.0</td>\n",
              "      <td>76772.0</td>\n",
              "      <td>77025.0</td>\n",
              "      <td>92.7</td>\n",
              "    </tr>\n",
              "  </tbody>\n",
              "</table>\n",
              "</div>"
            ],
            "text/plain": [
              "   Unnamed: 0        Date  ...  Location 25+_w_high_school_or_higher_in_percent\n",
              "0           0  2019-01-01  ...   77013.0                                   61.2\n",
              "1           1  2019-01-01  ...   77020.0                                   63.8\n",
              "2           2  2019-01-01  ...       NaN                                    NaN\n",
              "3           3  2019-01-01  ...   77025.0                                   92.7\n",
              "4           4  2019-01-01  ...   77025.0                                   92.7\n",
              "\n",
              "[5 rows x 25 columns]"
            ]
          },
          "metadata": {
            "tags": []
          },
          "execution_count": 4
        }
      ]
    },
    {
      "cell_type": "code",
      "metadata": {
        "id": "EEBGFR6IBIE_"
      },
      "source": [
        "### cleaning of the dataframe after the combination\n",
        "df = df[['Date', 'Hour', 'Reporting_Class','Category', 'Count', 'Beat','Premise','StreetName', 'City', 'Zip_Code', 'Month', 'Poverty_rate','Housing','Temperature','Weather_conditions','Unemploy_value','Median_household_income','25+_w_high_school_or_higher_in_percent']]"
      ],
      "execution_count": null,
      "outputs": []
    },
    {
      "cell_type": "code",
      "metadata": {
        "id": "5baDDe6vDBgA",
        "colab": {
          "base_uri": "https://localhost:8080/",
          "height": 487
        },
        "outputId": "81319f11-27cc-451e-9374-8ae442695230"
      },
      "source": [
        "df.head()"
      ],
      "execution_count": null,
      "outputs": [
        {
          "output_type": "execute_result",
          "data": {
            "text/html": [
              "<div>\n",
              "<style scoped>\n",
              "    .dataframe tbody tr th:only-of-type {\n",
              "        vertical-align: middle;\n",
              "    }\n",
              "\n",
              "    .dataframe tbody tr th {\n",
              "        vertical-align: top;\n",
              "    }\n",
              "\n",
              "    .dataframe thead th {\n",
              "        text-align: right;\n",
              "    }\n",
              "</style>\n",
              "<table border=\"1\" class=\"dataframe\">\n",
              "  <thead>\n",
              "    <tr style=\"text-align: right;\">\n",
              "      <th></th>\n",
              "      <th>Date</th>\n",
              "      <th>Hour</th>\n",
              "      <th>Reporting_Class</th>\n",
              "      <th>Category</th>\n",
              "      <th>Count</th>\n",
              "      <th>Beat</th>\n",
              "      <th>Premise</th>\n",
              "      <th>StreetName</th>\n",
              "      <th>City</th>\n",
              "      <th>Zip_Code</th>\n",
              "      <th>Month</th>\n",
              "      <th>Poverty_rate</th>\n",
              "      <th>Housing</th>\n",
              "      <th>Temperature</th>\n",
              "      <th>Weather_conditions</th>\n",
              "      <th>Unemploy_value</th>\n",
              "      <th>Median_household_income</th>\n",
              "      <th>25+_w_high_school_or_higher_in_percent</th>\n",
              "    </tr>\n",
              "  </thead>\n",
              "  <tbody>\n",
              "    <tr>\n",
              "      <th>0</th>\n",
              "      <td>2019-01-01</td>\n",
              "      <td>0</td>\n",
              "      <td>290</td>\n",
              "      <td>Destruction, damage, vandalism</td>\n",
              "      <td>1</td>\n",
              "      <td>9C30</td>\n",
              "      <td>Residence, Home (Includes Apartment)</td>\n",
              "      <td>SAN CARLOS</td>\n",
              "      <td>HOUSTON</td>\n",
              "      <td>77013</td>\n",
              "      <td>1</td>\n",
              "      <td>24.1</td>\n",
              "      <td>132335.0</td>\n",
              "      <td>52.1</td>\n",
              "      <td>Clear</td>\n",
              "      <td>50211</td>\n",
              "      <td>38665.0</td>\n",
              "      <td>61.2</td>\n",
              "    </tr>\n",
              "    <tr>\n",
              "      <th>1</th>\n",
              "      <td>2019-01-01</td>\n",
              "      <td>0</td>\n",
              "      <td>35A</td>\n",
              "      <td>Drug, narcotic violations</td>\n",
              "      <td>1</td>\n",
              "      <td>7C10</td>\n",
              "      <td>Highway, Road, Street, Alley</td>\n",
              "      <td>EAST</td>\n",
              "      <td>HOUSTON</td>\n",
              "      <td>77020</td>\n",
              "      <td>1</td>\n",
              "      <td>30.0</td>\n",
              "      <td>117754.0</td>\n",
              "      <td>52.1</td>\n",
              "      <td>Clear</td>\n",
              "      <td>50211</td>\n",
              "      <td>32207.0</td>\n",
              "      <td>63.8</td>\n",
              "    </tr>\n",
              "    <tr>\n",
              "      <th>2</th>\n",
              "      <td>2019-01-01</td>\n",
              "      <td>0</td>\n",
              "      <td>290</td>\n",
              "      <td>Destruction, damage, vandalism</td>\n",
              "      <td>1</td>\n",
              "      <td>16E40</td>\n",
              "      <td>Residence, Home (Includes Apartment)</td>\n",
              "      <td>LONE QUAIL</td>\n",
              "      <td>HOUSTON</td>\n",
              "      <td>77489</td>\n",
              "      <td>1</td>\n",
              "      <td>NaN</td>\n",
              "      <td>NaN</td>\n",
              "      <td>52.1</td>\n",
              "      <td>Clear</td>\n",
              "      <td>50211</td>\n",
              "      <td>NaN</td>\n",
              "      <td>NaN</td>\n",
              "    </tr>\n",
              "    <tr>\n",
              "      <th>3</th>\n",
              "      <td>2019-01-01</td>\n",
              "      <td>0</td>\n",
              "      <td>13A</td>\n",
              "      <td>Aggravated Assault</td>\n",
              "      <td>1</td>\n",
              "      <td>15E30</td>\n",
              "      <td>Residence, Home (Includes Apartment)</td>\n",
              "      <td>OSBY</td>\n",
              "      <td>HOUSTON</td>\n",
              "      <td>77025</td>\n",
              "      <td>1</td>\n",
              "      <td>9.7</td>\n",
              "      <td>416531.0</td>\n",
              "      <td>52.1</td>\n",
              "      <td>Clear</td>\n",
              "      <td>50211</td>\n",
              "      <td>76772.0</td>\n",
              "      <td>92.7</td>\n",
              "    </tr>\n",
              "    <tr>\n",
              "      <th>4</th>\n",
              "      <td>2019-01-01</td>\n",
              "      <td>0</td>\n",
              "      <td>23H</td>\n",
              "      <td>All other larceny</td>\n",
              "      <td>1</td>\n",
              "      <td>15E30</td>\n",
              "      <td>Residence, Home (Includes Apartment)</td>\n",
              "      <td>OSBY</td>\n",
              "      <td>HOUSTON</td>\n",
              "      <td>77025</td>\n",
              "      <td>1</td>\n",
              "      <td>9.7</td>\n",
              "      <td>416531.0</td>\n",
              "      <td>52.1</td>\n",
              "      <td>Clear</td>\n",
              "      <td>50211</td>\n",
              "      <td>76772.0</td>\n",
              "      <td>92.7</td>\n",
              "    </tr>\n",
              "  </tbody>\n",
              "</table>\n",
              "</div>"
            ],
            "text/plain": [
              "         Date  ...  25+_w_high_school_or_higher_in_percent\n",
              "0  2019-01-01  ...                                    61.2\n",
              "1  2019-01-01  ...                                    63.8\n",
              "2  2019-01-01  ...                                     NaN\n",
              "3  2019-01-01  ...                                    92.7\n",
              "4  2019-01-01  ...                                    92.7\n",
              "\n",
              "[5 rows x 18 columns]"
            ]
          },
          "metadata": {
            "tags": []
          },
          "execution_count": 6
        }
      ]
    },
    {
      "cell_type": "code",
      "metadata": {
        "colab": {
          "base_uri": "https://localhost:8080/",
          "height": 206
        },
        "id": "W4ALEV621GWR",
        "outputId": "59c027c1-0b12-4e11-bc8c-c3c6144acbc2"
      },
      "source": [
        "temp = df[['Zip_Code', 'Count']].groupby(['Zip_Code']).sum().reset_index()\n",
        "agg_df = df.merge(temp, left_on='Zip_Code', right_on = 'Zip_Code')\n",
        "agg_df.head()\n",
        "temp2 = df[['Zip_Code','Temperature']].groupby(['Zip_Code']).mean().reset_index()\n",
        "\n",
        "\n",
        "agg_df = agg_df.merge(temp2, left_on='Zip_Code', right_on = 'Zip_Code')\n",
        "temp3 = agg_df[['Zip_Code','Unemploy_value']].groupby(['Zip_Code']).mean().reset_index()\n",
        "agg_df = agg_df.merge(temp3, left_on='Zip_Code', right_on = 'Zip_Code')\n",
        "\n",
        "\n",
        "temp4 = agg_df[['Zip_Code','Housing']].groupby(['Zip_Code']).mean().reset_index()\n",
        "agg_df = agg_df.merge(temp4, left_on='Zip_Code', right_on = 'Zip_Code')\n",
        "agg_df.drop(columns=['Date', 'Hour','Reporting_Class', 'Category','Beat','Count_x','Premise','StreetName', 'City', 'Month','Temperature_x','Unemploy_value_x', 'Housing_x','Weather_conditions'], inplace=True)\n",
        "agg_df.head()"
      ],
      "execution_count": null,
      "outputs": [
        {
          "output_type": "execute_result",
          "data": {
            "text/html": [
              "<div>\n",
              "<style scoped>\n",
              "    .dataframe tbody tr th:only-of-type {\n",
              "        vertical-align: middle;\n",
              "    }\n",
              "\n",
              "    .dataframe tbody tr th {\n",
              "        vertical-align: top;\n",
              "    }\n",
              "\n",
              "    .dataframe thead th {\n",
              "        text-align: right;\n",
              "    }\n",
              "</style>\n",
              "<table border=\"1\" class=\"dataframe\">\n",
              "  <thead>\n",
              "    <tr style=\"text-align: right;\">\n",
              "      <th></th>\n",
              "      <th>Zip_Code</th>\n",
              "      <th>Poverty_rate</th>\n",
              "      <th>Median_household_income</th>\n",
              "      <th>25+_w_high_school_or_higher_in_percent</th>\n",
              "      <th>Count_y</th>\n",
              "      <th>Temperature_y</th>\n",
              "      <th>Unemploy_value_y</th>\n",
              "      <th>Housing_y</th>\n",
              "    </tr>\n",
              "  </thead>\n",
              "  <tbody>\n",
              "    <tr>\n",
              "      <th>0</th>\n",
              "      <td>77013</td>\n",
              "      <td>24.1</td>\n",
              "      <td>38665.0</td>\n",
              "      <td>61.2</td>\n",
              "      <td>2202</td>\n",
              "      <td>73.036351</td>\n",
              "      <td>42887.236493</td>\n",
              "      <td>136434.423697</td>\n",
              "    </tr>\n",
              "    <tr>\n",
              "      <th>1</th>\n",
              "      <td>77013</td>\n",
              "      <td>24.1</td>\n",
              "      <td>38665.0</td>\n",
              "      <td>61.2</td>\n",
              "      <td>2202</td>\n",
              "      <td>73.036351</td>\n",
              "      <td>42887.236493</td>\n",
              "      <td>136434.423697</td>\n",
              "    </tr>\n",
              "    <tr>\n",
              "      <th>2</th>\n",
              "      <td>77013</td>\n",
              "      <td>24.1</td>\n",
              "      <td>38665.0</td>\n",
              "      <td>61.2</td>\n",
              "      <td>2202</td>\n",
              "      <td>73.036351</td>\n",
              "      <td>42887.236493</td>\n",
              "      <td>136434.423697</td>\n",
              "    </tr>\n",
              "    <tr>\n",
              "      <th>3</th>\n",
              "      <td>77013</td>\n",
              "      <td>24.1</td>\n",
              "      <td>38665.0</td>\n",
              "      <td>61.2</td>\n",
              "      <td>2202</td>\n",
              "      <td>73.036351</td>\n",
              "      <td>42887.236493</td>\n",
              "      <td>136434.423697</td>\n",
              "    </tr>\n",
              "    <tr>\n",
              "      <th>4</th>\n",
              "      <td>77013</td>\n",
              "      <td>24.1</td>\n",
              "      <td>38665.0</td>\n",
              "      <td>61.2</td>\n",
              "      <td>2202</td>\n",
              "      <td>73.036351</td>\n",
              "      <td>42887.236493</td>\n",
              "      <td>136434.423697</td>\n",
              "    </tr>\n",
              "  </tbody>\n",
              "</table>\n",
              "</div>"
            ],
            "text/plain": [
              "   Zip_Code  Poverty_rate  ...  Unemploy_value_y      Housing_y\n",
              "0     77013          24.1  ...      42887.236493  136434.423697\n",
              "1     77013          24.1  ...      42887.236493  136434.423697\n",
              "2     77013          24.1  ...      42887.236493  136434.423697\n",
              "3     77013          24.1  ...      42887.236493  136434.423697\n",
              "4     77013          24.1  ...      42887.236493  136434.423697\n",
              "\n",
              "[5 rows x 8 columns]"
            ]
          },
          "metadata": {
            "tags": []
          },
          "execution_count": 7
        }
      ]
    },
    {
      "cell_type": "code",
      "metadata": {
        "id": "ki8-lXp-A8HX"
      },
      "source": [
        "#from pycaret.classification import *\n",
        "from pycaret.regression import *\n",
        "from pycaret.clustering import *\n",
        "#from pycaret.anomaly import *\n",
        "#from pycaret.nlp import *\n",
        "#from pycaret.arules import *"
      ],
      "execution_count": null,
      "outputs": []
    },
    {
      "cell_type": "code",
      "metadata": {
        "id": "uLaztPD73ZbG"
      },
      "source": [
        "agg_df.drop_duplicates(inplace=True, ignore_index=True)\n"
      ],
      "execution_count": null,
      "outputs": []
    },
    {
      "cell_type": "code",
      "metadata": {
        "id": "9A0ZE8lF2Wyp"
      },
      "source": [
        "agg_df.drop(columns=['Zip_Code'], inplace=True)\n"
      ],
      "execution_count": null,
      "outputs": []
    },
    {
      "cell_type": "code",
      "metadata": {
        "colab": {
          "base_uri": "https://localhost:8080/"
        },
        "id": "enqvK6X8-ZGn",
        "outputId": "900485db-4735-49c0-a89d-c174f47d1ce8"
      },
      "source": [
        "from sklearn.preprocessing import StandardScaler\n",
        "num = agg_df[['Poverty_rate', 'Median_household_income', '25+_w_high_school_or_higher_in_percent', 'Temperature_y', 'Unemploy_value_y', 'Housing_y']]\n",
        "scaler = StandardScaler()\n",
        "scaler.fit(num)\n",
        "num = scaler.transform(num)\n",
        "num"
      ],
      "execution_count": null,
      "outputs": [
        {
          "output_type": "execute_result",
          "data": {
            "text/plain": [
              "array([[ 1.10634520e+00, -8.77972137e-01, -1.34702963e+00,\n",
              "        -8.83441069e-02, -1.87400915e-01, -6.41044488e-01],\n",
              "       [ 1.75287226e+00, -1.08251752e+00, -1.16151256e+00,\n",
              "        -1.01565506e-01, -7.78162002e-02, -7.20048184e-01],\n",
              "       [            nan,             nan,             nan,\n",
              "         2.96514015e-02, -2.51596105e-02,             nan],\n",
              "       [-4.71619152e-01,  3.28997644e-01,  9.00581136e-01,\n",
              "         5.39061177e-03, -8.49493190e-02,  9.59414694e-01],\n",
              "       [ 5.91315166e-01, -7.96793783e-01, -1.02594238e+00,\n",
              "        -6.10243603e-02, -9.64573491e-02, -5.60051254e-01],\n",
              "       [ 3.50237279e-01, -3.41871932e-01, -3.55226787e-01,\n",
              "         2.24090564e-02, -1.86539144e-01,  1.24217315e+00],\n",
              "       [ 2.40656422e-01, -5.27635119e-01,  7.07928785e-01,\n",
              "        -7.45564520e-02, -5.96385563e-02, -6.51266254e-02],\n",
              "       [ 1.04059668e+00, -8.42023080e-01, -1.51114090e+00,\n",
              "        -1.24105621e-01, -8.88969550e-02, -6.09218540e-01],\n",
              "       [ 1.81862077e+00, -1.19429216e+00, -1.11870092e+00,\n",
              "        -1.03284768e-01, -1.58846502e-01, -8.42718366e-01],\n",
              "       [-1.11814621e+00,  1.57867465e-01,  1.72783363e-01,\n",
              "        -6.74636797e-02, -1.85182352e-01, -9.35297881e-02],\n",
              "       [ 4.05027708e-01, -5.19146707e-01, -1.28281218e+00,\n",
              "        -8.10672811e-02, -2.00101029e-01, -6.30466771e-01],\n",
              "       [-1.30443367e+00,  6.19884108e-01,  1.18599203e+00,\n",
              "        -5.48849081e-02, -4.38637683e-02,  1.33244055e+00],\n",
              "       [-1.30443367e+00,  7.84014515e-01,  1.29302111e+00,\n",
              "        -2.22820641e-01, -1.98187049e-01,  1.93891900e+00],\n",
              "       [ 5.25566651e-01, -5.64977795e-01, -8.33290030e-01,\n",
              "        -6.37831765e-02, -1.76830390e-01,  1.01233529e-01],\n",
              "       [ 4.59818137e-01, -7.56853906e-01, -7.04855129e-01,\n",
              "         7.86995470e-03, -4.50515033e-02, -5.82123532e-01],\n",
              "       [ 4.26943880e-01, -5.81384501e-01, -5.19338049e-01,\n",
              "        -1.50979629e-02, -1.99947283e-01, -3.75975514e-01],\n",
              "       [ 2.07782164e-01, -4.68026198e-01, -6.54908223e-01,\n",
              "        -1.22151274e-01, -1.72199030e-01, -5.01922596e-01],\n",
              "       [ 5.91315166e-01, -7.72975553e-01, -9.18913297e-01,\n",
              "        -5.56393079e-02, -1.81323874e-01, -4.29050914e-01],\n",
              "       [ 7.99518795e-01, -8.51873439e-01, -2.04628632e+00,\n",
              "        -1.02214683e-01, -1.66901281e-01, -6.90795303e-01],\n",
              "       [-1.19485281e+00,  1.87721424e+00,  1.24307421e+00,\n",
              "        -1.87637428e-01, -1.26821680e-01,  1.02025861e+00],\n",
              "       [-7.78445553e-01,  9.24199999e-01,  9.29122226e-01,\n",
              "        -3.02907557e-01,  5.77278020e-02, -6.10565498e-02],\n",
              "       [ 6.13231337e-01, -6.02225452e-01, -8.83236936e-01,\n",
              "         1.29751142e-01, -1.34083158e-01, -5.80922914e-01],\n",
              "       [ 1.11730328e+00, -9.01790367e-01,  3.79706259e-01,\n",
              "         2.12982720e-02, -2.10944805e-01, -5.53283130e-01],\n",
              "       [ 1.43508777e+00, -8.88075881e-01, -2.03201577e+00,\n",
              "        -1.74780103e-01, -5.90988482e-02, -6.24591693e-01],\n",
              "       [ 6.53270497e-02, -8.26249838e-01, -6.76314040e-01,\n",
              "        -1.18493713e-01, -1.34583321e-01, -7.50637647e-01],\n",
              "       [ 2.14947067e-02, -3.66323625e-01, -5.97826044e-01,\n",
              "        -3.06998922e-02, -1.84648842e-01, -3.99817144e-01],\n",
              "       [ 1.17209371e+00, -8.93903745e-01, -5.19338049e-01,\n",
              "        -5.83639050e-02, -2.09390751e-02, -7.62704169e-01],\n",
              "       [            nan,             nan,             nan,\n",
              "         4.07566573e-02, -7.17702599e-02, -6.41253233e-01],\n",
              "       [ 2.20215377e+00, -1.04150075e+00, -1.21145946e+00,\n",
              "        -2.57123206e-02, -6.61750219e-02, -1.99306126e-01],\n",
              "       [ 1.82957886e+00, -1.13195935e+00, -9.83569842e-02,\n",
              "        -9.63801139e-03, -1.13286477e-01, -7.04873565e-01],\n",
              "       [-7.89403639e-01,  5.83621266e-03,  9.14851681e-01,\n",
              "         2.53850431e-01, -1.95229723e-01, -2.00262797e-01],\n",
              "       [ 9.96764339e-01, -9.51770641e-01, -8.19019485e-01,\n",
              "        -4.28973519e-02, -1.17440750e-01, -7.66536092e-01],\n",
              "       [ 1.02963860e+00, -7.31737076e-01, -6.54908223e-01,\n",
              "        -5.71780637e-02, -2.10737086e-01, -5.55015309e-01],\n",
              "       [ 1.62137523e+00, -1.11495085e+00, -1.73233434e+00,\n",
              "         1.10997670e-01, -1.64899953e-01, -4.96977089e-01],\n",
              "       [-4.93535324e-01, -3.77460798e-02,  1.10036876e+00,\n",
              "         1.68169084e-02, -9.37209386e-02,  3.79662652e-01],\n",
              "       [ 3.72153451e-01, -6.35387269e-01,  6.43711334e-01,\n",
              "        -1.71212882e-01, -1.92914682e-01, -2.24393955e-01],\n",
              "       [-3.94912552e-01, -2.46017111e-02,  7.43605146e-01,\n",
              "         3.07248390e-02, -1.54463048e-01,  6.11224378e-01],\n",
              "       [-8.00361725e-01,  7.91521058e-01,  8.86310592e-01,\n",
              "        -1.74801542e-01, -1.22592296e-01,  1.43406553e+00],\n",
              "       [-3.29164037e-01,  1.70061639e-01,  2.94082992e-01,\n",
              "         1.94944101e-01, -2.38441792e-01, -3.23591946e-01],\n",
              "       [-1.86708923e-01, -1.18481010e-01,  6.36576062e-01,\n",
              "        -1.36009152e-01, -1.25358335e-01,  4.11774501e-02],\n",
              "       [-1.16197855e+00,  1.01602054e+00,  1.25734475e+00,\n",
              "        -1.59094704e-01, -1.01953262e-01,  2.19458770e+00],\n",
              "       [ 3.50237279e-01, -4.77496479e-01,  8.36363686e-01,\n",
              "        -1.34292393e-01, -1.11467944e-01,  3.57509652e-01],\n",
              "       [ 9.52931996e-01, -7.94513314e-01,  3.29759353e-01,\n",
              "        -9.29739943e-03, -2.92906600e-02, -5.85219081e-01],\n",
              "       [ 2.02682440e+00, -1.12055700e+00, -1.76801070e+00,\n",
              "        -5.47795489e-02, -8.24640975e-02, -6.45870824e-01],\n",
              "       [-8.11319811e-01,  2.75406628e-01,  1.10036876e+00,\n",
              "        -6.12542088e-02, -7.06942217e-02, -1.84784626e-01],\n",
              "       [ 1.44604585e+00, -8.50384799e-01, -4.90796960e-01,\n",
              "        -1.13276975e-02, -1.68616119e-01, -1.21854333e-01],\n",
              "       [-3.32957221e-02, -2.70543936e-01, -4.76526416e-01,\n",
              "        -6.34463897e-03, -1.15461284e-01, -6.20501706e-01],\n",
              "       [-4.71619152e-01, -4.98769069e-02,  1.72783363e-01,\n",
              "        -1.67581417e-01, -1.12384024e-01,  3.02494716e-01],\n",
              "       [ 1.40221351e+00, -8.93238609e-01, -1.59676416e+00,\n",
              "        -6.15028580e-02,  6.03232325e-03, -7.94955822e-01],\n",
              "       [ 5.47482823e-01, -8.10286556e-01, -5.26473322e-01,\n",
              "        -1.36017319e-01, -5.39884439e-02, -5.06319341e-01],\n",
              "       [ 8.87183481e-01, -7.85549805e-01, -1.01167184e+00,\n",
              "        -9.59810929e-02, -1.68578323e-01, -1.64352811e-01],\n",
              "       [ 5.91315166e-01, -6.96896580e-01, -2.05386069e-01,\n",
              "        -8.70529478e-02, -1.18458460e-01, -9.80958200e-02],\n",
              "       [ 2.10353100e+00, -1.11121342e+00, -2.36023830e+00,\n",
              "        -2.26788145e-02, -1.46517567e-01, -7.36586921e-01],\n",
              "       [ 2.09257291e+00, -1.11080167e+00, -1.93212196e+00,\n",
              "        -1.04967451e-01, -1.28761918e-01, -5.25546962e-01],\n",
              "       [-1.14006238e+00,  1.33848516e+00,  9.50528042e-01,\n",
              "        -1.44580090e-01, -8.59720661e-02,  1.25032919e+00],\n",
              "       [ 1.02963860e+00,  1.87196828e-01,  8.00248231e-02,\n",
              "         3.96062201e-02, -1.79343040e-01,  3.68760600e-01],\n",
              "       [-4.71619152e-01, -7.13196481e-02,  2.22730269e-01,\n",
              "         2.05783531e-01, -2.40303210e-01, -3.57122577e-01],\n",
              "       [ 1.79670460e+00, -1.12226736e+00, -1.01167184e+00,\n",
              "        -6.15662574e-02, -8.70094195e-02, -6.44619956e-01],\n",
              "       [ 1.41317160e+00, -1.18364997e+00, -7.04855129e-01,\n",
              "        -6.89365356e-02, -1.25345695e-01, -8.44349409e-01],\n",
              "       [-9.31858754e-01,  6.68439090e-01,  2.65541903e-01,\n",
              "         2.56480298e-02, -5.75049852e-02, -2.32780606e-01],\n",
              "       [ 1.04059668e+00, -9.59277184e-01, -5.83555500e-01,\n",
              "        -1.84641871e-02, -4.39817332e-02, -5.51110257e-01],\n",
              "       [ 1.74907907e-01, -4.57415684e-01,  4.79600071e-01,\n",
              "        -6.76443140e-02, -1.20308974e-01, -3.35720680e-01],\n",
              "       [-9.42816840e-01,  5.14475773e-01,  5.86629156e-01,\n",
              "        -1.50815322e+00,  3.74905649e-01,             nan],\n",
              "       [-1.32634984e+00,  1.32945831e+00,  1.25020948e+00,\n",
              "        -3.10096440e-02, -1.35503609e-01,  1.94874612e+00],\n",
              "       [ 1.08442902e+00, -8.02368262e-01, -1.47546454e+00,\n",
              "         2.16715428e-01,  2.23529586e-02, -5.43261067e-01],\n",
              "       [-7.67487468e-01,  1.57802941e+00,  1.22880366e+00,\n",
              "        -6.33795606e-03, -1.52980838e-01,  1.86981821e+00],\n",
              "       [-1.29347558e+00,  3.99067037e+00,  1.32156220e+00,\n",
              "        -4.45171593e-02, -1.86956584e-01,  5.60518478e+00],\n",
              "       [ 4.15985794e-01, -4.89247227e-01, -3.41395336e-02,\n",
              "         1.62829575e-01,  3.17756334e-01, -4.12216074e-01],\n",
              "       [-3.07247866e-01, -4.92762950e-01,  1.33583275e+00,\n",
              "        -2.57660234e-01, -7.38548852e-02, -6.72822925e-01],\n",
              "       [-4.82577238e-01, -2.91955004e-01, -9.04642753e-01,\n",
              "        -1.63329163e-02, -1.16607579e-01, -4.95445888e-01],\n",
              "       [-9.86649183e-01,  7.50345927e-01,  1.31442693e+00,\n",
              "        -1.94928851e-01, -2.21497244e-01,  1.30621694e+00],\n",
              "       [-2.08625094e-01, -2.19550120e-01,  3.00779170e-02,\n",
              "         4.10545216e-02, -1.05311479e-01, -3.41105395e-01],\n",
              "       [-6.61699794e-02, -5.65452893e-01,  2.72677175e-01,\n",
              "         3.89437678e-02, -2.37998510e-02, -4.32393888e-01],\n",
              "       [-4.71619152e-01,  1.02376058e-01,  1.79918635e-01,\n",
              "        -1.54592829e-01, -1.17518267e-01, -2.97998023e-01],\n",
              "       [-3.72996380e-01,  7.61336520e-01,  5.50952794e-01,\n",
              "        -1.16260593e-01, -7.23095213e-02,  1.04788464e+00],\n",
              "       [-4.60661066e-01, -3.08710115e-01,  2.44136086e-01,\n",
              "        -9.59752537e-02, -1.27411270e-01,             nan],\n",
              "       [-9.42816840e-01,  3.43737457e-02,  1.05755713e+00,\n",
              "         1.82322493e-01, -7.54350281e-02,  3.36688605e-02],\n",
              "       [ 2.40656422e-01, -3.18908878e-01, -4.05173693e-01,\n",
              "        -1.18606222e-01, -1.24965089e-01,  4.94531695e-01],\n",
              "       [ 2.59664486e+00, -1.07409245e+00, -1.01167184e+00,\n",
              "         8.75514051e-02, -1.78638645e-01, -6.76725785e-01],\n",
              "       [-5.04493409e-01,  4.24504060e-02,  5.72358611e-01,\n",
              "        -1.17801851e-02, -3.24028181e-02, -4.40714963e-01],\n",
              "       [-5.59283838e-01,  8.94217285e-02,  2.58406630e-01,\n",
              "         4.04077064e-02, -3.18308762e-02,             nan],\n",
              "       [-1.19485281e+00,  2.30511887e+00,  1.07182767e+00,\n",
              "         8.42782643e-03,  7.51985222e-03,  5.27496074e-01],\n",
              "       [ 1.22688414e+00, -7.47763704e-01, -8.47560575e-01,\n",
              "         1.58424155e-02, -6.66875295e-02, -4.33003657e-01],\n",
              "       [-9.53774925e-01,  1.80186375e+00,  1.30729166e+00,\n",
              "         7.75835943e-02, -1.18191423e-01,  4.30378548e+00],\n",
              "       [-1.41401453e+00,  2.25304817e+00,  1.22880366e+00,\n",
              "        -2.18595514e-01, -7.62556300e-02,  2.66014776e-01],\n",
              "       [-4.71619152e-01,  7.00377438e-02,  2.86947719e-01,\n",
              "        -8.49783917e-02, -3.42379470e-02, -1.76643036e-01],\n",
              "       [-1.53455347e+00,             nan,  1.42145601e+00,\n",
              "         3.55159389e-01, -2.10287173e-01,  1.23865877e+00],\n",
              "       [-5.15451495e-01,  4.47170270e-01,  3.86841532e-01,\n",
              "        -4.03623341e-01, -2.71197713e-01, -2.32212225e-01],\n",
              "       [            nan,             nan,             nan,\n",
              "         3.79453637e-01, -6.39445101e-02,             nan],\n",
              "       [ 1.68712374e+00, -7.34967740e-01, -2.65991974e+00,\n",
              "         9.39262018e-02, -2.33765650e-01, -6.10586488e-01],\n",
              "       [-5.70241924e-01,  1.98915904e-01,  3.08353536e-01,\n",
              "        -2.47758960e-01,  1.08135003e+00,             nan],\n",
              "       [ 7.55686452e-01, -5.66466435e-01, -1.25427110e+00,\n",
              "        -4.79156568e-01, -6.27402527e-01, -6.77572189e-01],\n",
              "       [-7.71280651e-02, -3.59482219e-01,  9.07716409e-01,\n",
              "        -1.89911225e-01, -2.05838611e-01, -2.78787741e-01],\n",
              "       [ 7.00896023e-01, -5.75619983e-01, -1.12583619e+00,\n",
              "         2.85140652e-01,  4.36550578e-01, -5.37680111e-01],\n",
              "       [-2.41499351e-01, -1.07395398e-01, -3.19550425e-01,\n",
              "        -3.11597123e-02,  1.21811310e-01, -4.16346221e-01],\n",
              "       [-1.41401453e+00,  3.54642238e+00,  1.24307421e+00,\n",
              "        -1.71983515e-01, -9.38725873e-02,  8.78269411e-01],\n",
              "       [            nan,             nan,             nan,\n",
              "        -3.40505002e-01,  1.64658997e-01,             nan],\n",
              "       [-3.83954466e-01, -1.41095659e-01, -1.19762801e-01,\n",
              "         3.10055278e-01, -7.50089884e-02, -4.32626336e-01],\n",
              "       [ 8.32393052e-01, -8.41769695e-01,  4.29653165e-01,\n",
              "         3.63202429e-04, -6.15119443e-01, -4.04313716e-01],\n",
              "       [ 1.73095608e+00, -9.38024482e-01, -2.14618013e+00,\n",
              "         1.66035072e-01, -1.83652275e-01, -6.45065771e-01],\n",
              "       [-6.68864696e-01,  3.31911577e-01,  5.72358611e-01,\n",
              "        -3.90142451e-01, -3.87725782e-01,             nan],\n",
              "       [-9.90442366e-02, -3.03294001e-01,  4.43923710e-01,\n",
              "        -1.32852978e-01, -1.63908606e-01, -3.52672228e-01],\n",
              "       [-1.31539176e+00,  4.04039726e+00,  1.20739784e+00,\n",
              "         2.03075230e-01, -4.50066696e-02,             nan],\n",
              "       [-1.53455347e+00,  6.81171707e-01,  1.42145601e+00,\n",
              "        -5.66890065e-02, -2.81163925e-01,  3.05519147e-01],\n",
              "       [            nan,             nan,             nan,\n",
              "        -1.66919738e+00, -2.66078421e-01,             nan],\n",
              "       [ 4.15985794e-01, -6.69689321e-01, -1.58249362e+00,\n",
              "         3.58645337e-03, -2.65469647e-01,             nan],\n",
              "       [-9.31858754e-01,  8.18443259e-01,  9.29122226e-01,\n",
              "        -1.03927984e+00, -2.86481301e-01, -1.06145384e-01],\n",
              "       [            nan,             nan,             nan,\n",
              "        -1.70610333e+00,  4.32356872e+00,             nan],\n",
              "       [            nan,             nan,             nan,\n",
              "         5.26289723e-02, -2.13060103e-01,             nan],\n",
              "       [-6.35990438e-01,  3.15409851e-01,  3.36894625e-01,\n",
              "        -1.60545073e+00,  3.01655252e+00,             nan],\n",
              "       [ 2.73530679e-01, -5.67891728e-01, -2.70042613e-02,\n",
              "        -1.12042412e-01, -1.76876394e-01,             nan],\n",
              "       [            nan,             nan,             nan,\n",
              "         6.79893096e-01, -2.54197339e-01,             nan],\n",
              "       [-1.13795506e-02, -1.65832410e-01, -8.19019485e-01,\n",
              "         1.30173194e+00,  1.01943343e-01,             nan],\n",
              "       [-3.94912552e-01, -4.89468940e-01,  1.58512818e-01,\n",
              "        -7.02174796e-01, -1.03958103e-01, -4.67805007e-01],\n",
              "       [-1.10002322e-01, -3.78802857e-01,  1.53682788e-03,\n",
              "        -6.83627445e-02, -9.52282887e-02, -3.63010939e-01],\n",
              "       [ 3.61195365e-01, -4.53044785e-01, -1.28281218e+00,\n",
              "         3.08961768e-01,  3.60297700e-01,             nan],\n",
              "       [ 6.78979852e-01, -7.78550032e-01, -1.68952270e+00,\n",
              "        -7.31210984e-01,  2.11068664e+00,             nan],\n",
              "       [-1.00856535e+00,  1.21765199e+00,  1.02901604e+00,\n",
              "        -3.80844068e-01,  6.63882292e-01,             nan],\n",
              "       [            nan,             nan,             nan,\n",
              "        -4.40359308e+00,  4.32356872e+00,             nan],\n",
              "       [-6.25032353e-01,  1.59609490e-01,  7.00793512e-01,\n",
              "         3.90346586e-01, -1.60269414e-01,             nan],\n",
              "       [-1.07431387e+00,  1.17109242e+00,  1.05042185e+00,\n",
              "        -4.40359308e+00,  4.32356872e+00,             nan],\n",
              "       [-6.79822781e-01, -2.85525349e-01,  4.79600071e-01,\n",
              "         9.66610388e-01, -2.67855159e-01, -2.62577770e-01],\n",
              "       [            nan,             nan,             nan,\n",
              "         1.15243058e+00,  2.82961594e+00,             nan],\n",
              "       [            nan,             nan,             nan,\n",
              "         3.01916086e-01,  1.83426336e+00,             nan],\n",
              "       [-5.37367667e-01,  4.55860506e-02,  4.15382621e-01,\n",
              "        -5.40652147e-01, -7.14528459e-01,             nan],\n",
              "       [            nan,             nan,             nan,\n",
              "        -1.11057544e+00,  7.33072436e-01,             nan],\n",
              "       [-5.70241924e-01, -2.08812912e-01, -4.12748059e-02,\n",
              "         2.32298036e-01, -5.40631895e-01,             nan],\n",
              "       [-1.01952344e+00,  9.54669596e-01,  1.06469240e+00,\n",
              "        -1.81935354e-01,  1.28128481e+00,             nan],\n",
              "       [-1.04143961e+00,  8.52175193e-01,  8.50634230e-01,\n",
              "         3.37487947e-02, -1.16169337e+00,             nan],\n",
              "       [            nan,             nan,             nan,\n",
              "         1.73827532e-01,  3.82039005e-02,             nan],\n",
              "       [-8.88026411e-01,  4.93318090e-01,  6.36576062e-01,\n",
              "        -2.48078492e-01,  1.49070305e+00,             nan],\n",
              "       [-8.55152154e-01,  3.71439703e-01,  4.22517893e-01,\n",
              "        -9.83457636e-02, -5.09024112e-01,             nan],\n",
              "       [            nan,             nan,             nan,\n",
              "        -2.85354300e+00,  1.70953632e+00,             nan],\n",
              "       [            nan,             nan,             nan,\n",
              "         2.89054920e-01, -7.49553966e-01,             nan],\n",
              "       [            nan,             nan,             nan,\n",
              "        -5.45243319e-01,  1.80767545e+00,             nan],\n",
              "       [-1.15102047e+00,  1.45960339e+00,  9.50528042e-01,\n",
              "         1.23760979e-01, -3.80519330e-01,             nan],\n",
              "       [            nan,             nan,             nan,\n",
              "        -1.19613015e+00, -1.39724489e+00,             nan],\n",
              "       [            nan,             nan,             nan,\n",
              "        -5.94267573e-02, -4.45993328e-01,             nan],\n",
              "       [ 1.51179437e+00, -6.40074900e-01, -1.39697654e+00,\n",
              "        -2.19799904e-01, -7.95064793e-01,             nan],\n",
              "       [            nan,             nan,             nan,\n",
              "         2.12876082e+00, -1.29032659e-01,             nan],\n",
              "       [ 1.74907907e-01, -5.04355333e-01, -7.19125673e-01,\n",
              "        -1.42628910e+00, -1.05536961e+00,             nan],\n",
              "       [            nan,             nan,             nan,\n",
              "        -8.60621473e-01, -1.24187504e+00,             nan],\n",
              "       [-9.09942582e-01,  9.75415527e-01,  1.17172148e+00,\n",
              "         1.54497573e+00,  5.70824627e-01,             nan],\n",
              "       [            nan,             nan,             nan,\n",
              "         6.01357578e-01, -6.30505148e-02,             nan],\n",
              "       [-1.14006238e+00,  7.75241045e-01,  6.43711334e-01,\n",
              "        -1.25095718e+00, -3.95117014e-01,             nan],\n",
              "       [            nan,             nan,             nan,\n",
              "        -7.55311737e-02, -3.44892773e+00,             nan],\n",
              "       [            nan,             nan,             nan,\n",
              "         4.47862359e-01, -3.54927189e-01,             nan],\n",
              "       [            nan,             nan,             nan,\n",
              "         1.92745562e+00, -7.96091353e-01,             nan],\n",
              "       [-1.17293664e+00,  9.69492643e-01,  9.29122226e-01,\n",
              "         6.69298085e-01, -2.95063550e+00,             nan],\n",
              "       [-1.07431387e+00,  1.90318625e+00,  1.15031567e+00,\n",
              "         2.58169753e+00,  1.19908746e+00,             nan],\n",
              "       [            nan,             nan,             nan,\n",
              "         3.16548263e+00, -2.95063550e+00,             nan],\n",
              "       [            nan,             nan,             nan,\n",
              "         7.81134310e-01, -3.95801387e-01,             nan],\n",
              "       [-6.25032353e-01,  5.51691757e-01,  5.50952794e-01,\n",
              "         1.09203902e+00, -6.01455576e-01, -1.13226505e-01],\n",
              "       [-9.64733011e-01,  3.73086708e-01,  7.79281507e-01,\n",
              "         2.70248066e+00, -7.09244377e-01,             nan],\n",
              "       [-4.16828723e-01, -4.77401459e-01, -2.76738791e-01,\n",
              "         4.25253073e+00,  1.53214675e+00,             nan],\n",
              "       [-1.22772707e+00,  1.28745967e+00,  1.09323349e+00,\n",
              "         1.38728665e+00,  6.10911795e-01,             nan],\n",
              "       [            nan,             nan,             nan,\n",
              "         1.13230006e+00,  2.18134330e+00,             nan],\n",
              "       [            nan,             nan,             nan,\n",
              "         1.45438838e+00,  2.18134330e+00,             nan],\n",
              "       [            nan,             nan,             nan,\n",
              "         3.80965928e+00,  1.33566316e+00,             nan],\n",
              "       [            nan,             nan,             nan,\n",
              "         1.41412734e+00, -1.03507452e+00,             nan],\n",
              "       [            nan,             nan,             nan,\n",
              "         7.09559126e-01, -1.03507452e+00,             nan],\n",
              "       [            nan,             nan,             nan,\n",
              "        -2.10871374e+00, -2.02611556e+00,             nan],\n",
              "       [            nan,             nan,             nan,\n",
              "        -2.41067155e+00, -2.02611556e+00,             nan]])"
            ]
          },
          "metadata": {
            "tags": []
          },
          "execution_count": 11
        }
      ]
    },
    {
      "cell_type": "code",
      "metadata": {
        "id": "wptd48LLBAJF"
      },
      "source": [
        "from sklearn.impute import KNNImputer\n",
        "imputer = KNNImputer(n_neighbors=10)\n",
        "imput = imputer.fit_transform(num)"
      ],
      "execution_count": null,
      "outputs": []
    },
    {
      "cell_type": "code",
      "metadata": {
        "colab": {
          "base_uri": "https://localhost:8080/"
        },
        "id": "uz3ytxBgBPDb",
        "outputId": "0fdec8ae-5c45-415b-cca8-36ef38a9cc7c"
      },
      "source": [
        "from sklearn.ensemble import RandomForestRegressor\n",
        "\n",
        "regr = RandomForestRegressor(max_depth=3, random_state=0)\n",
        "regr.fit(imput, agg_df['Count_y'].values.reshape((-1,)))"
      ],
      "execution_count": null,
      "outputs": [
        {
          "output_type": "execute_result",
          "data": {
            "text/plain": [
              "RandomForestRegressor(max_depth=3, random_state=0)"
            ]
          },
          "metadata": {
            "tags": []
          },
          "execution_count": 13
        }
      ]
    },
    {
      "cell_type": "code",
      "metadata": {
        "id": "mnTP8ZN8CGZg"
      },
      "source": [
        "pred = regr.predict(imput)"
      ],
      "execution_count": null,
      "outputs": []
    },
    {
      "cell_type": "code",
      "metadata": {
        "colab": {
          "base_uri": "https://localhost:8080/"
        },
        "id": "TV-vbFd3CiDs",
        "outputId": "be877f71-bf1b-4036-dd6f-094968dec69c"
      },
      "source": [
        "from sklearn.metrics import mean_squared_error\n",
        "print('Mean squared error')\n",
        "mean_squared_error(agg_df['Count_y'].values.reshape((-1,)), pred)"
      ],
      "execution_count": null,
      "outputs": [
        {
          "output_type": "stream",
          "text": [
            "Mean squared error\n"
          ],
          "name": "stdout"
        },
        {
          "output_type": "execute_result",
          "data": {
            "text/plain": [
              "907764.452840156"
            ]
          },
          "metadata": {
            "tags": []
          },
          "execution_count": 15
        }
      ]
    },
    {
      "cell_type": "code",
      "metadata": {
        "colab": {
          "base_uri": "https://localhost:8080/"
        },
        "id": "Z2HMkN9dDAdk",
        "outputId": "baa47510-7ab7-48e0-a021-1d8f8c5c8e42"
      },
      "source": [
        "from sklearn.metrics import mean_absolute_error\n",
        "print('Mean absolute error')\n",
        "mean_absolute_error(agg_df['Count_y'].values.reshape((-1,)), pred)"
      ],
      "execution_count": null,
      "outputs": [
        {
          "output_type": "stream",
          "text": [
            "Mean absolute error\n"
          ],
          "name": "stdout"
        },
        {
          "output_type": "execute_result",
          "data": {
            "text/plain": [
              "700.7745776472782"
            ]
          },
          "metadata": {
            "tags": []
          },
          "execution_count": 16
        }
      ]
    },
    {
      "cell_type": "code",
      "metadata": {
        "colab": {
          "base_uri": "https://localhost:8080/"
        },
        "id": "X3MGnanmDNFp",
        "outputId": "070e27dc-254b-43d9-d4f8-d8ea825bfc2f"
      },
      "source": [
        "from sklearn.metrics import r2_score\n",
        "print('R2')\n",
        "r2_score(agg_df['Count_y'].values.reshape((-1,)), pred)"
      ],
      "execution_count": null,
      "outputs": [
        {
          "output_type": "stream",
          "text": [
            "R2\n"
          ],
          "name": "stdout"
        },
        {
          "output_type": "execute_result",
          "data": {
            "text/plain": [
              "0.6630600436102518"
            ]
          },
          "metadata": {
            "tags": []
          },
          "execution_count": 17
        }
      ]
    },
    {
      "cell_type": "code",
      "metadata": {
        "id": "A3RLidfdEzQr"
      },
      "source": [
        "rf_feature = regr.feature_importances_\n",
        "rf_feature_df = pd.DataFrame(rf_feature).transpose()\n",
        "rf_feature_df\n",
        "rf_feature_df.columns = [['Poverty_rate', 'Median_household_income', '25+_w_high_school_or_higher_in_percent', 'Temperature_y', 'Unemploy_value_y', 'Housing_y']]"
      ],
      "execution_count": null,
      "outputs": []
    },
    {
      "cell_type": "code",
      "metadata": {
        "colab": {
          "base_uri": "https://localhost:8080/",
          "height": 81
        },
        "id": "sDs52xkNGJBc",
        "outputId": "d5087ba0-65d3-4e61-b93a-3733db3c6913"
      },
      "source": [
        "rf_feature_df"
      ],
      "execution_count": null,
      "outputs": [
        {
          "output_type": "execute_result",
          "data": {
            "text/html": [
              "<div>\n",
              "<style scoped>\n",
              "    .dataframe tbody tr th:only-of-type {\n",
              "        vertical-align: middle;\n",
              "    }\n",
              "\n",
              "    .dataframe tbody tr th {\n",
              "        vertical-align: top;\n",
              "    }\n",
              "\n",
              "    .dataframe thead tr th {\n",
              "        text-align: left;\n",
              "    }\n",
              "</style>\n",
              "<table border=\"1\" class=\"dataframe\">\n",
              "  <thead>\n",
              "    <tr>\n",
              "      <th></th>\n",
              "      <th>Poverty_rate</th>\n",
              "      <th>Median_household_income</th>\n",
              "      <th>25+_w_high_school_or_higher_in_percent</th>\n",
              "      <th>Temperature_y</th>\n",
              "      <th>Unemploy_value_y</th>\n",
              "      <th>Housing_y</th>\n",
              "    </tr>\n",
              "  </thead>\n",
              "  <tbody>\n",
              "    <tr>\n",
              "      <th>0</th>\n",
              "      <td>0.195648</td>\n",
              "      <td>0.295845</td>\n",
              "      <td>0.08568</td>\n",
              "      <td>0.162563</td>\n",
              "      <td>0.206675</td>\n",
              "      <td>0.05359</td>\n",
              "    </tr>\n",
              "  </tbody>\n",
              "</table>\n",
              "</div>"
            ],
            "text/plain": [
              "  Poverty_rate Median_household_income 25+_w_high_school_or_higher_in_percent  \\\n",
              "0     0.195648                0.295845                                0.08568   \n",
              "\n",
              "  Temperature_y Unemploy_value_y Housing_y  \n",
              "0      0.162563         0.206675   0.05359  "
            ]
          },
          "metadata": {
            "tags": []
          },
          "execution_count": 19
        }
      ]
    },
    {
      "cell_type": "code",
      "metadata": {
        "colab": {
          "base_uri": "https://localhost:8080/"
        },
        "id": "5-cmuFweESGm",
        "outputId": "839c8791-84b2-4d04-8394-b5d7d55538cb"
      },
      "source": [
        "N= agg_df['Count_y'].shape[0]\n",
        "p=6\n",
        "r2 = 0.6630600436102518\n",
        "x = (1-r2)\n",
        "y = (N-1) / (N-p-1)\n",
        "adj_rsquared = (1 - (x * y))\n",
        "print(adj_rsquared)"
      ],
      "execution_count": null,
      "outputs": [
        {
          "output_type": "stream",
          "text": [
            "0.6501008145183385\n"
          ],
          "name": "stdout"
        }
      ]
    },
    {
      "cell_type": "code",
      "metadata": {
        "id": "FTC6R-mp6wUD"
      },
      "source": [
        "reg = pycaret.regression.setup(data = agg_df, target = 'Count_y', numeric_imputation='median', normalize=True)"
      ],
      "execution_count": null,
      "outputs": []
    },
    {
      "cell_type": "code",
      "metadata": {
        "id": "yqKGwi6a41I1"
      },
      "source": [
        "best = compare_models()"
      ],
      "execution_count": null,
      "outputs": []
    },
    {
      "cell_type": "code",
      "metadata": {
        "id": "-VgfIk20P4gz"
      },
      "source": [
        "rf = create_model('rf')\n"
      ],
      "execution_count": null,
      "outputs": []
    },
    {
      "cell_type": "code",
      "metadata": {
        "colab": {
          "base_uri": "https://localhost:8080/",
          "height": 478
        },
        "id": "7Ywp24aR6O4d",
        "outputId": "0c55bd9c-4036-4d89-b083-7036b194214a"
      },
      "source": [
        "plot_model(rf, plot='feature')"
      ],
      "execution_count": null,
      "outputs": [
        {
          "output_type": "display_data",
          "data": {
            "image/png": "[encoded data removed]",
            "text/plain": [
              "<Figure size 800x500 with 1 Axes>"
            ]
          },
          "metadata": {
            "tags": []
          }
        }
      ]
    },
    {
      "cell_type": "code",
      "metadata": {
        "id": "dyXGuzwfRj7_"
      },
      "source": [
        "# from sklearn import preprocessing\n",
        "# le = preprocessing.LabelEncoder()\n",
        "# le.fit(df['Premise'].values)\n",
        "# transformed_prem = le.transform(df['Premise'].values)"
      ],
      "execution_count": null,
      "outputs": []
    },
    {
      "cell_type": "code",
      "metadata": {
        "id": "wK79keLlxKpu",
        "colab": {
          "base_uri": "https://localhost:8080/",
          "height": 338
        },
        "outputId": "93eab926-d684-4593-bcc6-6776a8eb2a4b"
      },
      "source": [
        "import matplotlib.pyplot as plt\n",
        "plt.hist(df['Month'].values,bins=[0,1,2,3,4,5,6,7,8,9,10,11,12,13])"
      ],
      "execution_count": null,
      "outputs": [
        {
          "output_type": "execute_result",
          "data": {
            "text/plain": [
              "(array([    0., 16629., 15432., 17187., 17753., 19410., 18027., 19235.,\n",
              "        19252., 18043., 18722., 18001., 18601.]),\n",
              " array([ 0,  1,  2,  3,  4,  5,  6,  7,  8,  9, 10, 11, 12, 13]),\n",
              " <a list of 13 Patch objects>)"
            ]
          },
          "metadata": {
            "tags": []
          },
          "execution_count": 28
        },
        {
          "output_type": "display_data",
          "data": {
            "image/png": "[encoded data removed]",
            "text/plain": [
              "<Figure size 432x288 with 1 Axes>"
            ]
          },
          "metadata": {
            "tags": [],
            "needs_background": "light"
          }
        }
      ]
    },
    {
      "cell_type": "code",
      "metadata": {
        "id": "4unJuzJhRoTA",
        "colab": {
          "base_uri": "https://localhost:8080/"
        },
        "outputId": "810f1d86-3f1d-426f-f55f-c93a4747e891"
      },
      "source": [
        "from collections import Counter\n",
        "counter = Counter()\n",
        "counter"
      ],
      "execution_count": null,
      "outputs": [
        {
          "output_type": "execute_result",
          "data": {
            "text/plain": [
              "Counter()"
            ]
          },
          "metadata": {
            "tags": []
          },
          "execution_count": 25
        }
      ]
    },
    {
      "cell_type": "code",
      "metadata": {
        "id": "Hd_cFvAAtR2U",
        "colab": {
          "base_uri": "https://localhost:8080/",
          "height": 625
        },
        "outputId": "8790a6c1-92e1-4a5e-8c18-5a95502eadc6"
      },
      "source": [
        "from sklearn.neighbors import KernelDensity\n",
        "import numpy as np\n",
        "data = df['Month'].values\n",
        "N_points = len(data)\n",
        "#kde = KernelDensity(kernel='gaussian', bandwidth=0.2).fit(data)\n",
        "#kde.score_samples(X)\n",
        "\n",
        "\n",
        "\n",
        "X_plot_amy = np.linspace(0, 13, 90)[:, np.newaxis]\n",
        "h_amy = np.std(data)*1.06*N_points**(-1/5)\n",
        "kde_amy = KernelDensity(kernel='gaussian', bandwidth = 0.55).fit(data.reshape(-1, 1))\n",
        "log_dens_amy = kde_amy.score_samples(X_plot_amy)\n",
        "\n",
        "\n",
        "\n",
        "# X_plot_acc = np.linspace(-2, 3, 90)[:, np.newaxis]\n",
        "# h_acc = np.std(data[:,1])*1.06*N_points**(-1/5)\n",
        "# kde_acc = KernelDensity(kernel='gaussian', bandwidth = h_acc).fit(data[:,1].reshape(-1, 1))\n",
        "# log_dens_acc = kde_acc.score_samples(X_plot_acc)\n",
        "\n",
        "fig = plt.figure(figsize=(20,20))\n",
        "fig.set_size_inches(18.5, 10)\n",
        "fig.subplots_adjust(hspace=0.5, wspace=0.51)\n",
        "plt.fill(X_plot_amy[:, 0], np.exp(log_dens_amy), fc='#AAAAFF')\n",
        "plt.title('Gaussian Kernel Density for monthly data')\n",
        "# ax[1].fill(X_plot_acc[:, 0], np.exp(log_dens_acc), fc='#AAAAFF')\n",
        "# ax[1].set_title('Gaussian Kernel Density for acc')"
      ],
      "execution_count": null,
      "outputs": [
        {
          "output_type": "execute_result",
          "data": {
            "text/plain": [
              "Text(0.5, 1.0, 'Gaussian Kernel Density for monthly data')"
            ]
          },
          "metadata": {
            "tags": []
          },
          "execution_count": 36
        },
        {
          "output_type": "display_data",
          "data": {
            "image/png": "[encoded data removed]",
            "text/plain": [
              "<Figure size 1332x720 with 1 Axes>"
            ]
          },
          "metadata": {
            "tags": [],
            "needs_background": "light"
          }
        }
      ]
    },
    {
      "cell_type": "code",
      "metadata": {
        "id": "73coQmQftUKU"
      },
      "source": [
        "h_amy"
      ],
      "execution_count": null,
      "outputs": []
    },
    {
      "cell_type": "code",
      "metadata": {
        "id": "HMrI_g4BtUSp"
      },
      "source": [
        ""
      ],
      "execution_count": null,
      "outputs": []
    },
    {
      "cell_type": "code",
      "metadata": {
        "id": "CaJoVC9btUcH"
      },
      "source": [
        ""
      ],
      "execution_count": null,
      "outputs": []
    },
    {
      "cell_type": "code",
      "metadata": {
        "id": "0iWNweNltUkW"
      },
      "source": [
        ""
      ],
      "execution_count": null,
      "outputs": []
    },
    {
      "cell_type": "code",
      "metadata": {
        "id": "amtMhRWZtUvb"
      },
      "source": [
        ""
      ],
      "execution_count": null,
      "outputs": []
    },
    {
      "cell_type": "code",
      "metadata": {
        "id": "L57ZqoJQtU4u"
      },
      "source": [
        ""
      ],
      "execution_count": null,
      "outputs": []
    },
    {
      "cell_type": "code",
      "metadata": {
        "id": "yliSQ6zdtVCY"
      },
      "source": [
        ""
      ],
      "execution_count": null,
      "outputs": []
    },
    {
      "cell_type": "code",
      "metadata": {
        "id": "2BucNl_3tVK1"
      },
      "source": [
        ""
      ],
      "execution_count": null,
      "outputs": []
    },
    {
      "cell_type": "code",
      "metadata": {
        "id": "x9WnTnk-tVV5"
      },
      "source": [
        ""
      ],
      "execution_count": null,
      "outputs": []
    },
    {
      "cell_type": "code",
      "metadata": {
        "id": "RWKmwWGVRoVe"
      },
      "source": [
        "china_town = df[df[\"Zip_Code\"]==77036]"
      ],
      "execution_count": null,
      "outputs": []
    },
    {
      "cell_type": "code",
      "metadata": {
        "id": "7kGUYcCjltct"
      },
      "source": [
        "china_town_copy = china_town.copy()"
      ],
      "execution_count": null,
      "outputs": []
    },
    {
      "cell_type": "code",
      "metadata": {
        "id": "de_El960Svcx"
      },
      "source": [
        "china_town_copy.tail()"
      ],
      "execution_count": null,
      "outputs": []
    },
    {
      "cell_type": "code",
      "metadata": {
        "id": "vjg-EDyCRoYB"
      },
      "source": [
        "china_town_copy = china_town.copy()\n",
        "\n",
        "china_town_copy.drop(columns=['Date', 'Count','City','Zip_Code','Poverty_rate', 'Housing','Unemploy_value','Median_household_income','25+_w_high_school_or_higher_in_percent'], inplace=True)\n",
        "china_town_copy.head()\n"
      ],
      "execution_count": null,
      "outputs": []
    },
    {
      "cell_type": "code",
      "metadata": {
        "id": "ksIWGmg0DZzs"
      },
      "source": [
        "from sklearn.cluster import KMeans\n",
        "from sklearn import metrics\n",
        "from scipy.spatial.distance import cdist\n",
        "import numpy as np\n",
        "import matplotlib.pyplot as plt"
      ],
      "execution_count": null,
      "outputs": []
    },
    {
      "cell_type": "code",
      "metadata": {
        "id": "awp-i4x0qW3w"
      },
      "source": [
        "!pip install kmodes"
      ],
      "execution_count": null,
      "outputs": []
    },
    {
      "cell_type": "code",
      "metadata": {
        "id": "zHwxfzdIuKTG"
      },
      "source": [
        "#Clustering的提高：我们目前的典型案例东西太杂，看不出特点，也无法plot出图像，可以考虑使用不同的使用案例来进行Clustering？\n",
        "\n",
        "#case1: 片警巡逻使用： 时间固定在18：00-22:00 Beat锁定18F60， Clustering Street name，就看一下数据会预测在哪里可能会发生案件\n",
        "#case2: 片警巡逻使用提升： 增加温度设定在47-48，天气clear,看看数据是否有变化。\n",
        "#case3: 片警巡逻地图： 时间固定在18：00，19：00，20：00，21：00，22：00，beat锁定18FF60，看一下每个小时的案件发生在哪里，有没有不同，然后看地图如何规划\n",
        "\n",
        "\n",
        "\n"
      ],
      "execution_count": null,
      "outputs": []
    },
    {
      "cell_type": "code",
      "metadata": {
        "id": "M4oYrUsYW5SX"
      },
      "source": [
        "case1 = china_town_copy[china_town_copy['Hour']<=22 ]\n",
        "case1 = case1[case1['Hour']>=14]\n",
        "case1 = case1[case1['Beat']=='19G10']\n",
        "case1.head()"
      ],
      "execution_count": null,
      "outputs": []
    },
    {
      "cell_type": "code",
      "metadata": {
        "id": "eOq-SlMUqcMM"
      },
      "source": [
        "import numpy as np\n",
        "from sklearn import datasets\n",
        "\n",
        "from kmodes.kprototypes import KPrototypes\n",
        "from kmodes.kmodes import KModes\n",
        "\n",
        "#iris = datasets.load_iris()\n",
        "\n",
        "data = case1[['Hour','StreetName', 'Premise']]\n",
        "\n",
        "kp = KModes(n_clusters=8, init='Huang', n_init=1, verbose=True)\n",
        "kp.fit_predict(data, categorical=[0, 1, 2])\n",
        "\n",
        "print(kp.cluster_centroids_)\n",
        "print(kp.labels_)"
      ],
      "execution_count": null,
      "outputs": []
    },
    {
      "cell_type": "code",
      "metadata": {
        "id": "oa4Vpvt2FQ3C"
      },
      "source": [
        "#cat_feature = case1[['Hour', 'Category', 'Beat', 'Premise', 'StreetName', 'Month', 'Weather_conditions']]\n",
        "cat_feature = case1[['Hour','StreetName','Premise']]"
      ],
      "execution_count": null,
      "outputs": []
    },
    {
      "cell_type": "code",
      "metadata": {
        "id": "BfpW73GuELW_"
      },
      "source": [
        "#temp = case1['Temperature'].values\n",
        "\n",
        "from sklearn.preprocessing import OneHotEncoder\n",
        "enc = OneHotEncoder()\n",
        "enc.fit(cat_feature)\n",
        "hour_st_res = enc.transform(cat_feature).toarray()\n",
        "#case1_enc = np.hstack((case1_enc, temp.reshape(958,1)))"
      ],
      "execution_count": null,
      "outputs": []
    },
    {
      "cell_type": "code",
      "metadata": {
        "id": "YZp4WFgylWge"
      },
      "source": [
        "# from sklearn.decomposition import PCA\n",
        "# pca = PCA(n_components = 2)\n",
        "# pca.fit(case1_enc)\n",
        "# plt.plot(pca.components_[0], pca.components_[1])"
      ],
      "execution_count": null,
      "outputs": []
    },
    {
      "cell_type": "code",
      "metadata": {
        "id": "Hj1O2Jo5GnKo"
      },
      "source": [
        "#case1['Temperature'].shape"
      ],
      "execution_count": null,
      "outputs": []
    },
    {
      "cell_type": "code",
      "metadata": {
        "id": "6yWJ-W_sGpNh"
      },
      "source": [
        "hour_st_res.shape"
      ],
      "execution_count": null,
      "outputs": []
    },
    {
      "cell_type": "code",
      "metadata": {
        "id": "oT4fMQMMExxR"
      },
      "source": [
        "#case1_enc = np.hstack((case1['Temperature'].values.reshape((590,1)), cat_enc))"
      ],
      "execution_count": null,
      "outputs": []
    },
    {
      "cell_type": "code",
      "metadata": {
        "id": "jlOeuoydDU8b"
      },
      "source": [
        "distortions = []\n",
        "inertias = []\n",
        "mapping1 = {}\n",
        "mapping2 = {}\n",
        "K = range(1, 40)\n",
        "\n",
        " \n",
        "for k in K:\n",
        "    # Building and fitting the model\n",
        "    kmeanModel = KMeans(n_clusters=k).fit(hour_st_res)\n",
        "    # kmeanModel.fit(case1_enc)\n",
        " \n",
        "    distortions.append(sum(np.min(cdist(hour_st_res, kmeanModel.cluster_centers_,\n",
        "                                        'euclidean'), axis=1)) / hour_st_res.shape[0])\n",
        "    inertias.append(kmeanModel.inertia_)\n",
        " \n",
        "    mapping1[k] = sum(np.min(cdist(hour_st_res, kmeanModel.cluster_centers_,\n",
        "                                   'euclidean'), axis=1)) / hour_st_res.shape[0]\n",
        "    mapping2[k] = kmeanModel.inertia_"
      ],
      "execution_count": null,
      "outputs": []
    },
    {
      "cell_type": "code",
      "metadata": {
        "id": "w4_kp8X9HtWi"
      },
      "source": [
        "for key, val in mapping1.items():\n",
        "    print(f'{key} : {val}')"
      ],
      "execution_count": null,
      "outputs": []
    },
    {
      "cell_type": "code",
      "metadata": {
        "id": "4SCc1i0ZHz0X"
      },
      "source": [
        "plt.plot(K, distortions, 'bx-')\n",
        "plt.xlabel('Values of K')\n",
        "plt.ylabel('Distortion')\n",
        "plt.title('The Elbow Method using Distortion')\n",
        "plt.show()"
      ],
      "execution_count": null,
      "outputs": []
    },
    {
      "cell_type": "code",
      "metadata": {
        "id": "HDSrcXMTIqWC"
      },
      "source": [
        "kmeans = KMeans(n_clusters=8, random_state=0).fit(hour_st_res)"
      ],
      "execution_count": null,
      "outputs": []
    },
    {
      "cell_type": "code",
      "metadata": {
        "id": "DtrxmDg8JGiL"
      },
      "source": [
        "cnts = kmeans.cluster_centers_"
      ],
      "execution_count": null,
      "outputs": []
    },
    {
      "cell_type": "code",
      "metadata": {
        "id": "y1GVmhXlfyGE"
      },
      "source": [
        "pd.DataFrame(cnts)"
      ],
      "execution_count": null,
      "outputs": []
    },
    {
      "cell_type": "code",
      "metadata": {
        "id": "4f2EwhZoJX_L"
      },
      "source": [
        "labels = kmeans.labels_"
      ],
      "execution_count": null,
      "outputs": []
    },
    {
      "cell_type": "code",
      "metadata": {
        "id": "LwIVoZKGJeJe"
      },
      "source": [
        "#kmean_pred = np.hstack((case1.values, labels.reshape((590, 1))))\n",
        "#kmean_pred = np.hstack((case1['StreetName'].values, labels.reshape((590, 1))))"
      ],
      "execution_count": null,
      "outputs": []
    },
    {
      "cell_type": "code",
      "metadata": {
        "id": "JbsFZOx6J15g"
      },
      "source": [
        "kmean_pred_df = pd.DataFrame(kmean_pred)"
      ],
      "execution_count": null,
      "outputs": []
    },
    {
      "cell_type": "code",
      "metadata": {
        "id": "ZOhHhzuQKhVB"
      },
      "source": [
        "pd.set_option(\"display.max_rows\", None)"
      ],
      "execution_count": null,
      "outputs": []
    },
    {
      "cell_type": "code",
      "metadata": {
        "id": "mCDS7_CoKRhT"
      },
      "source": [
        "kmean_pred_df.head(500)"
      ],
      "execution_count": null,
      "outputs": []
    },
    {
      "cell_type": "code",
      "metadata": {
        "id": "wj4OVQdOLSDT"
      },
      "source": [
        "cnts_df = pd.DataFrame(cnts)\n",
        "cnts_df_final = pd.DataFrame(enc.inverse_transform(cnts_df))\n",
        "cnts_df_final.columns = ['Hour', 'StreetName', 'Premise']\n",
        "cnts_df_final"
      ],
      "execution_count": null,
      "outputs": []
    },
    {
      "cell_type": "code",
      "metadata": {
        "id": "Pj74wslKbz96"
      },
      "source": [
        "from matplotlib import pyplot as plt \n",
        "plt.figure(figsize=(20,20))\n",
        "plt.hist(case1['StreetName'].values) \n"
      ],
      "execution_count": null,
      "outputs": []
    },
    {
      "cell_type": "code",
      "metadata": {
        "id": "1sVhWeSXbdKb"
      },
      "source": [
        "from collections import  Counter\n",
        "counter = Counter()"
      ],
      "execution_count": null,
      "outputs": []
    },
    {
      "cell_type": "code",
      "metadata": {
        "id": "NXYR83BtYsi5"
      },
      "source": [
        "#china_town_copy.drop(columns=['Poverty_rate','Median_household_income','25+_w_high_school_or_higher_in_percent'], inplace=True)\n",
        "temp1 = pycaret.classification.setup(data = china_town_copy, target='t_prem', categorical_features=['Hour','Category','Month','Weather_conditions'],categorical_imputation='mode',\n",
        "                                 numeric_features = ['Housing','Temperature','Unemploy_value']\n",
        "                                 ,numeric_imputation = 'median', normalize = True)"
      ],
      "execution_count": null,
      "outputs": []
    },
    {
      "cell_type": "code",
      "metadata": {
        "id": "lqCHSRPk-JZM"
      },
      "source": [
        "best_model = compare_models()"
      ],
      "execution_count": null,
      "outputs": []
    },
    {
      "cell_type": "code",
      "metadata": {
        "id": "QJxENZgZRoa3"
      },
      "source": [
        "lr = create_model('lr')\n",
        "print(lr)"
      ],
      "execution_count": null,
      "outputs": []
    },
    {
      "cell_type": "code",
      "metadata": {
        "id": "_Es8FG6u4mfW"
      },
      "source": [
        "tuned_lr = tune_model(lr)"
      ],
      "execution_count": null,
      "outputs": []
    },
    {
      "cell_type": "code",
      "metadata": {
        "id": "iuAMGJ9ZRodk"
      },
      "source": [
        "plot_model(tuned_lr, plot='pr')"
      ],
      "execution_count": null,
      "outputs": []
    },
    {
      "cell_type": "code",
      "metadata": {
        "id": "A9lcXhAL_vb1"
      },
      "source": [
        "china_town_copy = china_town.copy()\n",
        "\n",
        "china_town_copy.drop(columns=['Date', 'Count','City','Zip_Code','Poverty_rate', 'Housing','Unemploy_value','Median_household_income','25+_w_high_school_or_higher_in_percent','t_prem'], inplace=True)\n",
        "china_town_copy.head()"
      ],
      "execution_count": null,
      "outputs": []
    },
    {
      "cell_type": "code",
      "metadata": {
        "id": "WasrtVZ3Roix"
      },
      "source": [
        "from pycaret.clustering import *\n",
        "clu1 = pycaret.clustering.setup(data = china_town_copy, categorical_features=['Hour','Category','Beat','Premise','StreetName','Month','Weather_conditions'],categorical_imputation='mode',\n",
        "                                 numeric_features = ['Temperature']\n",
        "                                 ,numeric_imputation = 'median', normalize = True)"
      ],
      "execution_count": null,
      "outputs": []
    },
    {
      "cell_type": "code",
      "metadata": {
        "id": "RNKvtaGMRol2"
      },
      "source": [
        "kmeans = create_model('kmeans')\n",
        "# plotting a model\n"
      ],
      "execution_count": null,
      "outputs": []
    },
    {
      "cell_type": "code",
      "metadata": {
        "id": "dMzeO732Bayj"
      },
      "source": [
        ""
      ],
      "execution_count": null,
      "outputs": []
    },
    {
      "cell_type": "code",
      "metadata": {
        "id": "OTDozSRKbHpm"
      },
      "source": [
        "las = create_model('lasso')\n",
        "tuned_las = tune_model(las)"
      ],
      "execution_count": null,
      "outputs": []
    }
  ]
}